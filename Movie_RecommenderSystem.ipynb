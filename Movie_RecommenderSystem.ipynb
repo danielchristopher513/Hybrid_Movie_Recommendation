{
  "cells": [
    {
      "cell_type": "code",
      "execution_count": null,
      "metadata": {
        "colab": {
          "base_uri": "https://localhost:8080/"
        },
        "id": "S_rgy5IaG4Rs",
        "outputId": "9f08906d-3b24-4473-dfa6-4717f7f1828e"
      },
      "outputs": [
        {
          "name": "stdout",
          "output_type": "stream",
          "text": [
            "Drive already mounted at /content/drive; to attempt to forcibly remount, call drive.mount(\"/content/drive\", force_remount=True).\n"
          ]
        }
      ],
      "source": [
        "from google.colab import drive\n",
        "drive.mount('/content/drive')"
      ]
    },
    {
      "cell_type": "code",
      "execution_count": null,
      "metadata": {
        "colab": {
          "base_uri": "https://localhost:8080/"
        },
        "id": "YF2D0cLBHFPC",
        "outputId": "db4bad2e-788a-4030-a9ad-4549ae9d70b9"
      },
      "outputs": [
        {
          "name": "stdout",
          "output_type": "stream",
          "text": [
            "Looking in indexes: https://pypi.org/simple, https://us-python.pkg.dev/colab-wheels/public/simple/\n",
            "Collecting surprise\n",
            "  Downloading surprise-0.1-py2.py3-none-any.whl (1.8 kB)\n",
            "Collecting scikit-surprise\n",
            "  Downloading scikit-surprise-1.1.3.tar.gz (771 kB)\n",
            "\u001b[2K     \u001b[90m━━━━━━━━━━━━━━━━━━━━━━━━━━━━━━━━━━━━━━\u001b[0m \u001b[32m772.0/772.0 kB\u001b[0m \u001b[31m16.4 MB/s\u001b[0m eta \u001b[36m0:00:00\u001b[0m\n",
            "\u001b[?25h  Preparing metadata (setup.py) ... \u001b[?25l\u001b[?25hdone\n",
            "Requirement already satisfied: joblib>=1.0.0 in /usr/local/lib/python3.9/dist-packages (from scikit-surprise->surprise) (1.2.0)\n",
            "Requirement already satisfied: numpy>=1.17.3 in /usr/local/lib/python3.9/dist-packages (from scikit-surprise->surprise) (1.22.4)\n",
            "Requirement already satisfied: scipy>=1.3.2 in /usr/local/lib/python3.9/dist-packages (from scikit-surprise->surprise) (1.10.1)\n",
            "Building wheels for collected packages: scikit-surprise\n",
            "  Building wheel for scikit-surprise (setup.py) ... \u001b[?25l\u001b[?25hdone\n",
            "  Created wheel for scikit-surprise: filename=scikit_surprise-1.1.3-cp39-cp39-linux_x86_64.whl size=3195789 sha256=380fc8757dcc12e502726b9088dbe21e7ce2ed3c35fc3aa869de1d76af477b35\n",
            "  Stored in directory: /root/.cache/pip/wheels/c6/3a/46/9b17b3512bdf283c6cb84f59929cdd5199d4e754d596d22784\n",
            "Successfully built scikit-surprise\n",
            "Installing collected packages: scikit-surprise, surprise\n",
            "Successfully installed scikit-surprise-1.1.3 surprise-0.1\n"
          ]
        }
      ],
      "source": [
        "!pip install surprise"
      ]
    },
    {
      "cell_type": "markdown",
      "metadata": {
        "id": "jQPTpUu6Gwox"
      },
      "source": [
        "# Movie Recommendation system\n",
        "\n",
        "In this Project Hybrid Recommender System is Created using  Collaborative and Content Based\n",
        "Recommender System\n"
      ]
    },
    {
      "cell_type": "code",
      "execution_count": null,
      "metadata": {
        "id": "zdO0x8N5Gwoz"
      },
      "outputs": [],
      "source": [
        "import pandas as pd \n",
        "import numpy as np\n",
        "import matplotlib.pyplot as plt\n",
        "import seaborn as sns\n",
        "import os"
      ]
    },
    {
      "cell_type": "markdown",
      "metadata": {
        "id": "zuvw2d3f8-z1"
      },
      "source": [
        "---"
      ]
    },
    {
      "cell_type": "markdown",
      "metadata": {
        "id": "lB76TebsGwo2"
      },
      "source": [
        "# EDA"
      ]
    },
    {
      "cell_type": "code",
      "execution_count": null,
      "metadata": {
        "colab": {
          "base_uri": "https://localhost:8080/",
          "height": 206
        },
        "id": "-9M2OAFvGwo3",
        "outputId": "dabc532f-6250-454d-c21b-d02aebdbbe96"
      },
      "outputs": [
        {
          "data": {
            "text/html": [
              "\n",
              "  <div id=\"df-6366590f-a251-45bf-a8e1-db9f89fc5161\">\n",
              "    <div class=\"colab-df-container\">\n",
              "      <div>\n",
              "<style scoped>\n",
              "    .dataframe tbody tr th:only-of-type {\n",
              "        vertical-align: middle;\n",
              "    }\n",
              "\n",
              "    .dataframe tbody tr th {\n",
              "        vertical-align: top;\n",
              "    }\n",
              "\n",
              "    .dataframe thead th {\n",
              "        text-align: right;\n",
              "    }\n",
              "</style>\n",
              "<table border=\"1\" class=\"dataframe\">\n",
              "  <thead>\n",
              "    <tr style=\"text-align: right;\">\n",
              "      <th></th>\n",
              "      <th>userId</th>\n",
              "      <th>movieId</th>\n",
              "      <th>rating</th>\n",
              "    </tr>\n",
              "  </thead>\n",
              "  <tbody>\n",
              "    <tr>\n",
              "      <th>17541514</th>\n",
              "      <td>182019</td>\n",
              "      <td>2683</td>\n",
              "      <td>3.0</td>\n",
              "    </tr>\n",
              "    <tr>\n",
              "      <th>19666097</th>\n",
              "      <td>204299</td>\n",
              "      <td>2706</td>\n",
              "      <td>3.5</td>\n",
              "    </tr>\n",
              "    <tr>\n",
              "      <th>25421015</th>\n",
              "      <td>264700</td>\n",
              "      <td>2571</td>\n",
              "      <td>5.0</td>\n",
              "    </tr>\n",
              "    <tr>\n",
              "      <th>5302117</th>\n",
              "      <td>54704</td>\n",
              "      <td>585</td>\n",
              "      <td>4.0</td>\n",
              "    </tr>\n",
              "    <tr>\n",
              "      <th>6624852</th>\n",
              "      <td>68367</td>\n",
              "      <td>779</td>\n",
              "      <td>3.0</td>\n",
              "    </tr>\n",
              "  </tbody>\n",
              "</table>\n",
              "</div>\n",
              "      <button class=\"colab-df-convert\" onclick=\"convertToInteractive('df-6366590f-a251-45bf-a8e1-db9f89fc5161')\"\n",
              "              title=\"Convert this dataframe to an interactive table.\"\n",
              "              style=\"display:none;\">\n",
              "        \n",
              "  <svg xmlns=\"http://www.w3.org/2000/svg\" height=\"24px\"viewBox=\"0 0 24 24\"\n",
              "       width=\"24px\">\n",
              "    <path d=\"M0 0h24v24H0V0z\" fill=\"none\"/>\n",
              "    <path d=\"M18.56 5.44l.94 2.06.94-2.06 2.06-.94-2.06-.94-.94-2.06-.94 2.06-2.06.94zm-11 1L8.5 8.5l.94-2.06 2.06-.94-2.06-.94L8.5 2.5l-.94 2.06-2.06.94zm10 10l.94 2.06.94-2.06 2.06-.94-2.06-.94-.94-2.06-.94 2.06-2.06.94z\"/><path d=\"M17.41 7.96l-1.37-1.37c-.4-.4-.92-.59-1.43-.59-.52 0-1.04.2-1.43.59L10.3 9.45l-7.72 7.72c-.78.78-.78 2.05 0 2.83L4 21.41c.39.39.9.59 1.41.59.51 0 1.02-.2 1.41-.59l7.78-7.78 2.81-2.81c.8-.78.8-2.07 0-2.86zM5.41 20L4 18.59l7.72-7.72 1.47 1.35L5.41 20z\"/>\n",
              "  </svg>\n",
              "      </button>\n",
              "      \n",
              "  <style>\n",
              "    .colab-df-container {\n",
              "      display:flex;\n",
              "      flex-wrap:wrap;\n",
              "      gap: 12px;\n",
              "    }\n",
              "\n",
              "    .colab-df-convert {\n",
              "      background-color: #E8F0FE;\n",
              "      border: none;\n",
              "      border-radius: 50%;\n",
              "      cursor: pointer;\n",
              "      display: none;\n",
              "      fill: #1967D2;\n",
              "      height: 32px;\n",
              "      padding: 0 0 0 0;\n",
              "      width: 32px;\n",
              "    }\n",
              "\n",
              "    .colab-df-convert:hover {\n",
              "      background-color: #E2EBFA;\n",
              "      box-shadow: 0px 1px 2px rgba(60, 64, 67, 0.3), 0px 1px 3px 1px rgba(60, 64, 67, 0.15);\n",
              "      fill: #174EA6;\n",
              "    }\n",
              "\n",
              "    [theme=dark] .colab-df-convert {\n",
              "      background-color: #3B4455;\n",
              "      fill: #D2E3FC;\n",
              "    }\n",
              "\n",
              "    [theme=dark] .colab-df-convert:hover {\n",
              "      background-color: #434B5C;\n",
              "      box-shadow: 0px 1px 3px 1px rgba(0, 0, 0, 0.15);\n",
              "      filter: drop-shadow(0px 1px 2px rgba(0, 0, 0, 0.3));\n",
              "      fill: #FFFFFF;\n",
              "    }\n",
              "  </style>\n",
              "\n",
              "      <script>\n",
              "        const buttonEl =\n",
              "          document.querySelector('#df-6366590f-a251-45bf-a8e1-db9f89fc5161 button.colab-df-convert');\n",
              "        buttonEl.style.display =\n",
              "          google.colab.kernel.accessAllowed ? 'block' : 'none';\n",
              "\n",
              "        async function convertToInteractive(key) {\n",
              "          const element = document.querySelector('#df-6366590f-a251-45bf-a8e1-db9f89fc5161');\n",
              "          const dataTable =\n",
              "            await google.colab.kernel.invokeFunction('convertToInteractive',\n",
              "                                                     [key], {});\n",
              "          if (!dataTable) return;\n",
              "\n",
              "          const docLinkHtml = 'Like what you see? Visit the ' +\n",
              "            '<a target=\"_blank\" href=https://colab.research.google.com/notebooks/data_table.ipynb>data table notebook</a>'\n",
              "            + ' to learn more about interactive tables.';\n",
              "          element.innerHTML = '';\n",
              "          dataTable['output_type'] = 'display_data';\n",
              "          await google.colab.output.renderOutput(dataTable, element);\n",
              "          const docLink = document.createElement('div');\n",
              "          docLink.innerHTML = docLinkHtml;\n",
              "          element.appendChild(docLink);\n",
              "        }\n",
              "      </script>\n",
              "    </div>\n",
              "  </div>\n",
              "  "
            ],
            "text/plain": [
              "          userId  movieId  rating\n",
              "17541514  182019     2683     3.0\n",
              "19666097  204299     2706     3.5\n",
              "25421015  264700     2571     5.0\n",
              "5302117    54704      585     4.0\n",
              "6624852    68367      779     3.0"
            ]
          },
          "execution_count": 6,
          "metadata": {},
          "output_type": "execute_result"
        }
      ],
      "source": [
        "#Reading the Input files\n",
        "df_ratings_all = pd.read_csv('/content/drive/MyDrive/AIWR/ratings.csv', usecols = ['userId','movieId', 'rating'])\n",
        "df_ratings = df_ratings_all.sample(n=1000000)# taking randomly  1000000 enteries for ease of computation\n",
        "df_ratings.head()"
      ]
    },
    {
      "cell_type": "code",
      "execution_count": null,
      "metadata": {
        "colab": {
          "base_uri": "https://localhost:8080/"
        },
        "id": "_wha0IHxGwo4",
        "outputId": "3fe7174a-60e0-4f4d-c5ca-04b3ed31be97"
      },
      "outputs": [
        {
          "name": "stdout",
          "output_type": "stream",
          "text": [
            "duplicated data 0 missing data 0\n",
            "data types of each column userId       int64\n",
            "movieId      int64\n",
            "rating     float64\n",
            "dtype: object\n"
          ]
        }
      ],
      "source": [
        "na_values = sum(df_ratings.isnull().any())\n",
        "duplicates = sum(df_ratings.duplicated())\n",
        "print(\"duplicated data\",duplicates,\"missing data\",na_values)\n",
        "print(\"data types of each column\",df_ratings.dtypes)"
      ]
    },
    {
      "cell_type": "markdown",
      "metadata": {
        "id": "DWbPn9yzGwo5"
      },
      "source": [
        "### No na values or duplicates found"
      ]
    },
    {
      "cell_type": "code",
      "execution_count": null,
      "metadata": {
        "colab": {
          "base_uri": "https://localhost:8080/",
          "height": 300
        },
        "id": "Jg2dbOJ3Gwo_",
        "outputId": "6ad1d672-8c68-45e9-e1cd-76355a36f82d"
      },
      "outputs": [
        {
          "data": {
            "text/html": [
              "\n",
              "  <div id=\"df-66635f36-3d43-438a-bf2c-1d6c92a13fac\">\n",
              "    <div class=\"colab-df-container\">\n",
              "      <div>\n",
              "<style scoped>\n",
              "    .dataframe tbody tr th:only-of-type {\n",
              "        vertical-align: middle;\n",
              "    }\n",
              "\n",
              "    .dataframe tbody tr th {\n",
              "        vertical-align: top;\n",
              "    }\n",
              "\n",
              "    .dataframe thead th {\n",
              "        text-align: right;\n",
              "    }\n",
              "</style>\n",
              "<table border=\"1\" class=\"dataframe\">\n",
              "  <thead>\n",
              "    <tr style=\"text-align: right;\">\n",
              "      <th></th>\n",
              "      <th>userId</th>\n",
              "      <th>movieId</th>\n",
              "      <th>rating</th>\n",
              "    </tr>\n",
              "  </thead>\n",
              "  <tbody>\n",
              "    <tr>\n",
              "      <th>count</th>\n",
              "      <td>1000000.000000</td>\n",
              "      <td>1000000.000000</td>\n",
              "      <td>1000000.000000</td>\n",
              "    </tr>\n",
              "    <tr>\n",
              "      <th>mean</th>\n",
              "      <td>135210.472000</td>\n",
              "      <td>15826.996681</td>\n",
              "      <td>3.529176</td>\n",
              "    </tr>\n",
              "    <tr>\n",
              "      <th>std</th>\n",
              "      <td>78194.586044</td>\n",
              "      <td>31099.007394</td>\n",
              "      <td>1.065702</td>\n",
              "    </tr>\n",
              "    <tr>\n",
              "      <th>min</th>\n",
              "      <td>1.000000</td>\n",
              "      <td>1.000000</td>\n",
              "      <td>0.500000</td>\n",
              "    </tr>\n",
              "    <tr>\n",
              "      <th>25%</th>\n",
              "      <td>67310.000000</td>\n",
              "      <td>1061.000000</td>\n",
              "      <td>3.000000</td>\n",
              "    </tr>\n",
              "    <tr>\n",
              "      <th>50%</th>\n",
              "      <td>135500.500000</td>\n",
              "      <td>2580.000000</td>\n",
              "      <td>3.500000</td>\n",
              "    </tr>\n",
              "    <tr>\n",
              "      <th>75%</th>\n",
              "      <td>202988.000000</td>\n",
              "      <td>6454.000000</td>\n",
              "      <td>4.000000</td>\n",
              "    </tr>\n",
              "    <tr>\n",
              "      <th>max</th>\n",
              "      <td>270896.000000</td>\n",
              "      <td>176269.000000</td>\n",
              "      <td>5.000000</td>\n",
              "    </tr>\n",
              "  </tbody>\n",
              "</table>\n",
              "</div>\n",
              "      <button class=\"colab-df-convert\" onclick=\"convertToInteractive('df-66635f36-3d43-438a-bf2c-1d6c92a13fac')\"\n",
              "              title=\"Convert this dataframe to an interactive table.\"\n",
              "              style=\"display:none;\">\n",
              "        \n",
              "  <svg xmlns=\"http://www.w3.org/2000/svg\" height=\"24px\"viewBox=\"0 0 24 24\"\n",
              "       width=\"24px\">\n",
              "    <path d=\"M0 0h24v24H0V0z\" fill=\"none\"/>\n",
              "    <path d=\"M18.56 5.44l.94 2.06.94-2.06 2.06-.94-2.06-.94-.94-2.06-.94 2.06-2.06.94zm-11 1L8.5 8.5l.94-2.06 2.06-.94-2.06-.94L8.5 2.5l-.94 2.06-2.06.94zm10 10l.94 2.06.94-2.06 2.06-.94-2.06-.94-.94-2.06-.94 2.06-2.06.94z\"/><path d=\"M17.41 7.96l-1.37-1.37c-.4-.4-.92-.59-1.43-.59-.52 0-1.04.2-1.43.59L10.3 9.45l-7.72 7.72c-.78.78-.78 2.05 0 2.83L4 21.41c.39.39.9.59 1.41.59.51 0 1.02-.2 1.41-.59l7.78-7.78 2.81-2.81c.8-.78.8-2.07 0-2.86zM5.41 20L4 18.59l7.72-7.72 1.47 1.35L5.41 20z\"/>\n",
              "  </svg>\n",
              "      </button>\n",
              "      \n",
              "  <style>\n",
              "    .colab-df-container {\n",
              "      display:flex;\n",
              "      flex-wrap:wrap;\n",
              "      gap: 12px;\n",
              "    }\n",
              "\n",
              "    .colab-df-convert {\n",
              "      background-color: #E8F0FE;\n",
              "      border: none;\n",
              "      border-radius: 50%;\n",
              "      cursor: pointer;\n",
              "      display: none;\n",
              "      fill: #1967D2;\n",
              "      height: 32px;\n",
              "      padding: 0 0 0 0;\n",
              "      width: 32px;\n",
              "    }\n",
              "\n",
              "    .colab-df-convert:hover {\n",
              "      background-color: #E2EBFA;\n",
              "      box-shadow: 0px 1px 2px rgba(60, 64, 67, 0.3), 0px 1px 3px 1px rgba(60, 64, 67, 0.15);\n",
              "      fill: #174EA6;\n",
              "    }\n",
              "\n",
              "    [theme=dark] .colab-df-convert {\n",
              "      background-color: #3B4455;\n",
              "      fill: #D2E3FC;\n",
              "    }\n",
              "\n",
              "    [theme=dark] .colab-df-convert:hover {\n",
              "      background-color: #434B5C;\n",
              "      box-shadow: 0px 1px 3px 1px rgba(0, 0, 0, 0.15);\n",
              "      filter: drop-shadow(0px 1px 2px rgba(0, 0, 0, 0.3));\n",
              "      fill: #FFFFFF;\n",
              "    }\n",
              "  </style>\n",
              "\n",
              "      <script>\n",
              "        const buttonEl =\n",
              "          document.querySelector('#df-66635f36-3d43-438a-bf2c-1d6c92a13fac button.colab-df-convert');\n",
              "        buttonEl.style.display =\n",
              "          google.colab.kernel.accessAllowed ? 'block' : 'none';\n",
              "\n",
              "        async function convertToInteractive(key) {\n",
              "          const element = document.querySelector('#df-66635f36-3d43-438a-bf2c-1d6c92a13fac');\n",
              "          const dataTable =\n",
              "            await google.colab.kernel.invokeFunction('convertToInteractive',\n",
              "                                                     [key], {});\n",
              "          if (!dataTable) return;\n",
              "\n",
              "          const docLinkHtml = 'Like what you see? Visit the ' +\n",
              "            '<a target=\"_blank\" href=https://colab.research.google.com/notebooks/data_table.ipynb>data table notebook</a>'\n",
              "            + ' to learn more about interactive tables.';\n",
              "          element.innerHTML = '';\n",
              "          dataTable['output_type'] = 'display_data';\n",
              "          await google.colab.output.renderOutput(dataTable, element);\n",
              "          const docLink = document.createElement('div');\n",
              "          docLink.innerHTML = docLinkHtml;\n",
              "          element.appendChild(docLink);\n",
              "        }\n",
              "      </script>\n",
              "    </div>\n",
              "  </div>\n",
              "  "
            ],
            "text/plain": [
              "               userId         movieId          rating\n",
              "count  1000000.000000  1000000.000000  1000000.000000\n",
              "mean    135210.472000    15826.996681        3.529176\n",
              "std      78194.586044    31099.007394        1.065702\n",
              "min          1.000000        1.000000        0.500000\n",
              "25%      67310.000000     1061.000000        3.000000\n",
              "50%     135500.500000     2580.000000        3.500000\n",
              "75%     202988.000000     6454.000000        4.000000\n",
              "max     270896.000000   176269.000000        5.000000"
            ]
          },
          "execution_count": 8,
          "metadata": {},
          "output_type": "execute_result"
        }
      ],
      "source": [
        "df_ratings.describe()"
      ]
    },
    {
      "cell_type": "code",
      "execution_count": null,
      "metadata": {
        "colab": {
          "base_uri": "https://localhost:8080/",
          "height": 472
        },
        "id": "vEDtZm7bzJh8",
        "outputId": "ac0faa55-c270-4893-e9e2-d204eb53fc75"
      },
      "outputs": [
        {
          "data": {
            "image/png": "[encoded data removed]",
            "text/plain": [
              "<Figure size 640x480 with 1 Axes>"
            ]
          },
          "metadata": {},
          "output_type": "display_data"
        }
      ],
      "source": [
        "# Assuming your dataframe is named df_ratings\n",
        "df_ratings['rating'].plot.hist()\n",
        "\n",
        "# Set axis labels and title\n",
        "plt.xlabel('Rating')\n",
        "plt.ylabel('Frequency')\n",
        "plt.title('Histogram of overall ratings')\n",
        "plt.show()"
      ]
    },
    {
      "cell_type": "code",
      "execution_count": null,
      "metadata": {
        "colab": {
          "base_uri": "https://localhost:8080/",
          "height": 472
        },
        "id": "iXgoNCWlWFli",
        "outputId": "ec33057f-85ac-4f14-d92a-14adcf418d88"
      },
      "outputs": [
        {
          "data": {
            "image/png": "[encoded data removed]",
            "text/plain": [
              "<Figure size 640x480 with 2 Axes>"
            ]
          },
          "metadata": {},
          "output_type": "display_data"
        }
      ],
      "source": [
        "plt.scatter(df_ratings['userId'], df_ratings['movieId'], c=df_ratings['rating'], cmap='coolwarm')\n",
        "plt.colorbar()\n",
        "\n",
        "# Set axis labels and title\n",
        "plt.xlabel('User ID')\n",
        "plt.ylabel('Movie ID')\n",
        "plt.title('Ratings by User ID and Movie ID')\n",
        "plt.show()"
      ]
    },
    {
      "cell_type": "code",
      "execution_count": null,
      "metadata": {
        "colab": {
          "base_uri": "https://localhost:8080/",
          "height": 472
        },
        "id": "p_N9jF1f0JyS",
        "outputId": "9eda0eaf-6b66-466c-bdb6-f49be8b45003"
      },
      "outputs": [
        {
          "data": {
            "image/png": "[encoded data removed]",
            "text/plain": [
              "<Figure size 640x480 with 1 Axes>"
            ]
          },
          "metadata": {},
          "output_type": "display_data"
        }
      ],
      "source": [
        "mean_ratings = df_ratings.groupby('movieId')['rating'].mean()\n",
        "plt.bar(mean_ratings.index, mean_ratings.values)\n",
        "\n",
        "# Set axis labels and title\n",
        "plt.xlabel('Movie ID')\n",
        "plt.ylabel('Average rating')\n",
        "plt.title('Average ratings by Movie ID')\n",
        "plt.show()"
      ]
    },
    {
      "cell_type": "code",
      "execution_count": null,
      "metadata": {
        "colab": {
          "base_uri": "https://localhost:8080/",
          "height": 510
        },
        "id": "PABCUzpK3kIR",
        "outputId": "8d41a884-e567-4955-90f8-620c813ba517"
      },
      "outputs": [
        {
          "data": {
            "image/png": "[encoded data removed]",
            "text/plain": [
              "<Figure size 640x480 with 2 Axes>"
            ]
          },
          "metadata": {},
          "output_type": "display_data"
        }
      ],
      "source": [
        "import pandas as pd\n",
        "import numpy as np\n",
        "import seaborn as sns\n",
        "import matplotlib.pyplot as plt\n",
        "\n",
        "# Assuming your data is in a dataframe named df_ratings\n",
        "# Select a random sample of 500 users and 500 movies\n",
        "sample_users = np.random.choice(df_ratings['userId'].unique(), size=500, replace=False)\n",
        "sample_movies = np.random.choice(df_ratings['movieId'].unique(), size=500, replace=False)\n",
        "df_sample = df_ratings[(df_ratings['userId'].isin(sample_users)) & (df_ratings['movieId'].isin(sample_movies))]\n",
        "\n",
        "# Create a pivot table with UserIDs as rows and MovieIDs as columns\n",
        "pivot_table = pd.pivot_table(df_sample, values='rating', index='userId', columns='movieId', fill_value=0)\n",
        "\n",
        "# Create the adjacency matrix by calculating the correlation between columns\n",
        "adj_matrix = pivot_table.corr()\n",
        "\n",
        "# Create the heatmap\n",
        "sns.heatmap(adj_matrix, cmap='RdYlGn', vmin=-1, vmax=1)\n",
        "\n",
        "# Set axis labels and title\n",
        "plt.xlabel('Movie ID')\n",
        "plt.ylabel('User ID')\n",
        "plt.title('Adjacency Matrix of Ratings')\n",
        "\n",
        "plt.show()"
      ]
    },
    {
      "cell_type": "markdown",
      "metadata": {
        "id": "V8Y_v-ep840l"
      },
      "source": [
        "---"
      ]
    },
    {
      "cell_type": "markdown",
      "metadata": {
        "id": "0gbI19nOGwpB"
      },
      "source": [
        "## Collabrative Filtering\n",
        "\n"
      ]
    },
    {
      "cell_type": "code",
      "execution_count": null,
      "metadata": {
        "colab": {
          "base_uri": "https://localhost:8080/"
        },
        "id": "P3K1O-JwGwpC",
        "outputId": "9ac12900-11d1-4069-bb7f-a40527c3bb00"
      },
      "outputs": [
        {
          "data": {
            "text/plain": [
              "<surprise.dataset.DatasetAutoFolds at 0x7f7ec0b24b20>"
            ]
          },
          "execution_count": 13,
          "metadata": {},
          "output_type": "execute_result"
        }
      ],
      "source": [
        "from surprise import Reader, Dataset, SVD\n",
        "from surprise.model_selection import cross_validate\n",
        "# Reader is a class in the Surprise library, which is used for reading datasets in a specific format \n",
        "reader = Reader(rating_scale=(0.5, 5.0))\n",
        "#max rating =5 and min rating=0.5\n",
        "data = Dataset.load_from_df(df_ratings[['userId', 'movieId', 'rating']], reader)\n",
        "data"
      ]
    },
    {
      "cell_type": "markdown",
      "metadata": {
        "id": "SlGxPmPi8gYu"
      },
      "source": [
        "### SVD"
      ]
    },
    {
      "cell_type": "code",
      "execution_count": null,
      "metadata": {
        "colab": {
          "base_uri": "https://localhost:8080/"
        },
        "id": "f7VRwZjqGwpF",
        "outputId": "537ac624-f841-4cc3-b892-6f3e16ad6fdd"
      },
      "outputs": [
        {
          "name": "stdout",
          "output_type": "stream",
          "text": [
            "RMSE: 0.9276\n"
          ]
        },
        {
          "data": {
            "text/plain": [
              "0.9276004343521765"
            ]
          },
          "execution_count": 53,
          "metadata": {},
          "output_type": "execute_result"
        }
      ],
      "source": [
        "from surprise.model_selection import train_test_split\n",
        "from surprise import accuracy\n",
        "trainset, testset = train_test_split(data, test_size=.25)\n",
        "model=SVD(n_epochs = 10, n_factors = 20)\n",
        "model.fit(trainset)\n",
        "predictions = model.test(testset)\n",
        "accuracy.rmse(predictions)"
      ]
    },
    {
      "cell_type": "code",
      "execution_count": null,
      "metadata": {
        "colab": {
          "base_uri": "https://localhost:8080/"
        },
        "id": "J59w0I0SSvCF",
        "outputId": "8ed1669e-1d14-4a42-b975-6999ca131c31"
      },
      "outputs": [
        {
          "name": "stdout",
          "output_type": "stream",
          "text": [
            "Evaluating RMSE of algorithm SVD on 5 split(s).\n",
            "\n",
            "                  Fold 1  Fold 2  Fold 3  Fold 4  Fold 5  Mean    Std     \n",
            "RMSE (testset)    0.9240  0.9223  0.9231  0.9253  0.9229  0.9235  0.0010  \n",
            "Fit time          6.09    6.13    6.46    6.66    6.95    6.46    0.32    \n",
            "Test time         1.48    2.78    3.04    1.97    3.14    2.48    0.65    \n"
          ]
        }
      ],
      "source": [
        "# Perform cross validation\n",
        "results = cross_validate(model, data, measures=['RMSE'], cv=5, verbose=True)"
      ]
    },
    {
      "cell_type": "code",
      "execution_count": null,
      "metadata": {
        "colab": {
          "base_uri": "https://localhost:8080/"
        },
        "id": "LkgI8KoDUlNm",
        "outputId": "65078ef5-7eca-4f96-aa4c-1a08ef18562d"
      },
      "outputs": [
        {
          "name": "stdout",
          "output_type": "stream",
          "text": [
            "[test_rmse    0.923517\n",
            "fit_time     6.458479\n",
            "test_time    2.482845\n",
            "0                 SVD\n",
            "dtype: object]\n"
          ]
        },
        {
          "name": "stderr",
          "output_type": "stream",
          "text": [
            "<ipython-input-56-50dd14b2d82c>:4: FutureWarning: The series.append method is deprecated and will be removed from pandas in a future version. Use pandas.concat instead.\n",
            "  tmp = tmp.append(pd.Series([str(SVD(n_epochs = 10, n_factors = 20)).split(' ')[0].split('.')[-1]]))\n"
          ]
        }
      ],
      "source": [
        "benchmark=[]\n",
        "# Get results & append algorithm name\n",
        "tmp = pd.DataFrame.from_dict(results).mean(axis=0)\n",
        "tmp = tmp.append(pd.Series([str(SVD(n_epochs = 10, n_factors = 20)).split(' ')[0].split('.')[-1]]))\n",
        "benchmark.append(tmp)\n",
        "print(benchmark)"
      ]
    },
    {
      "cell_type": "markdown",
      "metadata": {
        "id": "35p8LzJDSETC"
      },
      "source": [
        "### Co-Clustering"
      ]
    },
    {
      "cell_type": "code",
      "execution_count": null,
      "metadata": {
        "colab": {
          "base_uri": "https://localhost:8080/"
        },
        "id": "pdIfpYvmSCLT",
        "outputId": "ba68f5fa-0ef7-4bbc-f172-444f80d53442"
      },
      "outputs": [
        {
          "name": "stdout",
          "output_type": "stream",
          "text": [
            "Processing epoch 0\n",
            "Processing epoch 1\n",
            "Processing epoch 2\n",
            "Processing epoch 3\n",
            "Processing epoch 4\n",
            "Processing epoch 5\n",
            "Processing epoch 6\n",
            "Processing epoch 7\n",
            "Processing epoch 8\n",
            "Processing epoch 9\n",
            "Processing epoch 10\n",
            "Processing epoch 11\n",
            "Processing epoch 12\n",
            "Processing epoch 13\n",
            "Processing epoch 14\n",
            "Processing epoch 15\n",
            "Processing epoch 16\n",
            "Processing epoch 17\n",
            "Processing epoch 18\n",
            "Processing epoch 19\n",
            "RMSE: 1.0330\n",
            "MAE:  0.7957\n",
            "RMSE: 1.0330, MAE: 0.7957\n"
          ]
        }
      ],
      "source": [
        "from surprise import CoClustering\n",
        "\n",
        "algocc = CoClustering(n_cltr_u=3, n_cltr_i=3, n_epochs=20, verbose=True)\n",
        "\n",
        "# Train the algorithm on the trainset\n",
        "algocc.fit(trainset)\n",
        "\n",
        "# Evaluate the model on the testset\n",
        "predictions = algocc.test(testset)\n",
        "rmse = accuracy.rmse(predictions)\n",
        "mae = accuracy.mae(predictions)\n",
        "\n",
        "print(f'RMSE: {rmse:.4f}, MAE: {mae:.4f}')"
      ]
    },
    {
      "cell_type": "markdown",
      "metadata": {
        "id": "eocgYlcj8alk"
      },
      "source": [
        "### SVD++"
      ]
    },
    {
      "cell_type": "code",
      "execution_count": null,
      "metadata": {
        "colab": {
          "base_uri": "https://localhost:8080/"
        },
        "id": "WWVHmw9D6Fow",
        "outputId": "ce16f7aa-bca3-4458-9f23-b6d58aa94a9d"
      },
      "outputs": [
        {
          "name": "stdout",
          "output_type": "stream",
          "text": [
            "RMSE: 0.9255\n",
            "MAE:  0.7141\n",
            "RMSE: 0.9255, MAE: 0.7141\n"
          ]
        }
      ],
      "source": [
        "from surprise import SVDpp\n",
        "\n",
        "# Define the SVD++ algorithm with hyperparameters\n",
        "algo = SVDpp(n_factors=50, lr_all=0.005, reg_all=0.02)\n",
        "\n",
        "# Train the algorithm on the trainset\n",
        "algo.fit(trainset)\n",
        "\n",
        "# Evaluate the model on the testset\n",
        "predictions = algo.test(testset)\n",
        "rmse = accuracy.rmse(predictions)\n",
        "mae = accuracy.mae(predictions)\n",
        "\n",
        "print(f'RMSE: {rmse:.4f}, MAE: {mae:.4f}')"
      ]
    },
    {
      "cell_type": "markdown",
      "metadata": {
        "id": "BHSdFxB_GwpG"
      },
      "source": [
        "## SVD model is made to fit on training dataset"
      ]
    },
    {
      "cell_type": "code",
      "execution_count": null,
      "metadata": {
        "id": "gjp78lROGwpH"
      },
      "outputs": [],
      "source": [
        "def get_collabration_based_recommendations(userId, movieId):\n",
        "    return model.predict(userId, movieId).est"
      ]
    },
    {
      "cell_type": "code",
      "execution_count": null,
      "metadata": {
        "colab": {
          "base_uri": "https://localhost:8080/"
        },
        "id": "o93QjHblGwpI",
        "outputId": "aba35f1e-de12-4400-b202-e09cf661e5ac"
      },
      "outputs": [
        {
          "data": {
            "text/plain": [
              "2.9363234628311563"
            ]
          },
          "execution_count": 22,
          "metadata": {},
          "output_type": "execute_result"
        }
      ],
      "source": [
        "get_collabration_based_recommendations(1, 250) "
      ]
    },
    {
      "cell_type": "markdown",
      "metadata": {
        "id": "UZQ8oVsUGwpI"
      },
      "source": [
        "* gives estimated rating for a given userid and movie id"
      ]
    },
    {
      "cell_type": "markdown",
      "metadata": {
        "id": "8pCW0j_B80Sl"
      },
      "source": [
        "---"
      ]
    },
    {
      "cell_type": "markdown",
      "metadata": {
        "id": "nLhPvsUoGwpJ"
      },
      "source": [
        "## Content-based Recommendation\n",
        "\n",
        "Our criteria will be to recommend movies with same features as directors, cast, genres, keywords etc.\n"
      ]
    },
    {
      "cell_type": "code",
      "execution_count": null,
      "metadata": {
        "colab": {
          "base_uri": "https://localhost:8080/"
        },
        "id": "5V83XDRmGwpJ",
        "outputId": "b2041a92-f580-4809-9aaa-c5a941d94ea5"
      },
      "outputs": [
        {
          "name": "stdout",
          "output_type": "stream",
          "text": [
            "Type of credit columns:\n",
            "  cast    object\n",
            "crew    object\n",
            "id       int64\n",
            "dtype: object\n"
          ]
        },
        {
          "name": "stderr",
          "output_type": "stream",
          "text": [
            "<ipython-input-23-a5831ae30a24>:4: DtypeWarning: Columns (10) have mixed types. Specify dtype option on import or set low_memory=False.\n",
            "  movies = pd.read_csv('/content/drive/MyDrive/AIWR/movies_metadata.csv')\n"
          ]
        },
        {
          "name": "stdout",
          "output_type": "stream",
          "text": [
            "Type of movies columns:\n",
            "  adult                     object\n",
            "belongs_to_collection     object\n",
            "budget                    object\n",
            "genres                    object\n",
            "homepage                  object\n",
            "id                        object\n",
            "imdb_id                   object\n",
            "original_language         object\n",
            "original_title            object\n",
            "overview                  object\n",
            "popularity                object\n",
            "poster_path               object\n",
            "production_companies      object\n",
            "production_countries      object\n",
            "release_date              object\n",
            "revenue                  float64\n",
            "runtime                  float64\n",
            "spoken_languages          object\n",
            "status                    object\n",
            "tagline                   object\n",
            "title                     object\n",
            "video                     object\n",
            "vote_average             float64\n",
            "vote_count               float64\n",
            "dtype: object\n",
            "Type of keywords columns:\n",
            "  id           int64\n",
            "keywords    object\n",
            "dtype: object\n"
          ]
        }
      ],
      "source": [
        "# Read required files\n",
        "credits = pd.read_csv('/content/drive/MyDrive/AIWR/credits.csv')\n",
        "print(\"Type of credit columns:\\n \", credits.dtypes)\n",
        "movies = pd.read_csv('/content/drive/MyDrive/AIWR/movies_metadata.csv')\n",
        "print(\"Type of movies columns:\\n \", movies.dtypes)\n",
        "keywords = pd.read_csv('/content/drive/MyDrive/AIWR/keywords.csv')\n",
        "print(\"Type of keywords columns:\\n \", keywords.dtypes)"
      ]
    },
    {
      "cell_type": "code",
      "execution_count": null,
      "metadata": {
        "colab": {
          "base_uri": "https://localhost:8080/"
        },
        "id": "SHv0aRdrGwpK",
        "outputId": "8fda504a-fbd7-423f-9dd5-811e2d10195e"
      },
      "outputs": [
        {
          "data": {
            "text/plain": [
              "cast                      object\n",
              "crew                      object\n",
              "id                        object\n",
              "adult                     object\n",
              "belongs_to_collection     object\n",
              "budget                    object\n",
              "genres                    object\n",
              "homepage                  object\n",
              "imdb_id                   object\n",
              "original_language         object\n",
              "original_title            object\n",
              "overview                  object\n",
              "popularity                object\n",
              "poster_path               object\n",
              "production_companies      object\n",
              "production_countries      object\n",
              "release_date              object\n",
              "revenue                  float64\n",
              "runtime                  float64\n",
              "spoken_languages          object\n",
              "status                    object\n",
              "tagline                   object\n",
              "title                     object\n",
              "video                     object\n",
              "vote_average             float64\n",
              "vote_count               float64\n",
              "keywords                  object\n",
              "dtype: object"
            ]
          },
          "execution_count": 24,
          "metadata": {},
          "output_type": "execute_result"
        }
      ],
      "source": [
        "# We will merge these three files to the one dataframe. But id of movie column is object but for other files movie id column is int64.\n",
        "# Convert these int64 to string then merge\n",
        "keywords['id'] = keywords['id'].astype('str')\n",
        "credits['id'] = credits['id'].astype('str')\n",
        "df_merge = (credits.merge(movies,on='id')).merge(keywords,on='id')\n",
        "df = df_merge[:10000]\n",
        "df.dtypes"
      ]
    },
    {
      "cell_type": "code",
      "execution_count": null,
      "metadata": {
        "colab": {
          "base_uri": "https://localhost:8080/",
          "height": 698
        },
        "id": "jNhECV5o_m1D",
        "outputId": "73932ef1-4899-4952-ffc2-26c1c5cbdfe4"
      },
      "outputs": [
        {
          "data": {
            "text/html": [
              "\n",
              "  <div id=\"df-b2881aed-5ca5-46be-8841-88744cfab3d2\">\n",
              "    <div class=\"colab-df-container\">\n",
              "      <div>\n",
              "<style scoped>\n",
              "    .dataframe tbody tr th:only-of-type {\n",
              "        vertical-align: middle;\n",
              "    }\n",
              "\n",
              "    .dataframe tbody tr th {\n",
              "        vertical-align: top;\n",
              "    }\n",
              "\n",
              "    .dataframe thead th {\n",
              "        text-align: right;\n",
              "    }\n",
              "</style>\n",
              "<table border=\"1\" class=\"dataframe\">\n",
              "  <thead>\n",
              "    <tr style=\"text-align: right;\">\n",
              "      <th></th>\n",
              "      <th>cast</th>\n",
              "      <th>crew</th>\n",
              "      <th>id</th>\n",
              "      <th>adult</th>\n",
              "      <th>belongs_to_collection</th>\n",
              "      <th>budget</th>\n",
              "      <th>genres</th>\n",
              "      <th>homepage</th>\n",
              "      <th>imdb_id</th>\n",
              "      <th>original_language</th>\n",
              "      <th>...</th>\n",
              "      <th>revenue</th>\n",
              "      <th>runtime</th>\n",
              "      <th>spoken_languages</th>\n",
              "      <th>status</th>\n",
              "      <th>tagline</th>\n",
              "      <th>title</th>\n",
              "      <th>video</th>\n",
              "      <th>vote_average</th>\n",
              "      <th>vote_count</th>\n",
              "      <th>keywords</th>\n",
              "    </tr>\n",
              "  </thead>\n",
              "  <tbody>\n",
              "    <tr>\n",
              "      <th>0</th>\n",
              "      <td>[{'cast_id': 14, 'character': 'Woody (voice)',...</td>\n",
              "      <td>[{'credit_id': '52fe4284c3a36847f8024f49', 'de...</td>\n",
              "      <td>862</td>\n",
              "      <td>False</td>\n",
              "      <td>{'id': 10194, 'name': 'Toy Story Collection', ...</td>\n",
              "      <td>30000000</td>\n",
              "      <td>[{'id': 16, 'name': 'Animation'}, {'id': 35, '...</td>\n",
              "      <td>http://toystory.disney.com/toy-story</td>\n",
              "      <td>tt0114709</td>\n",
              "      <td>en</td>\n",
              "      <td>...</td>\n",
              "      <td>373554033.0</td>\n",
              "      <td>81.0</td>\n",
              "      <td>[{'iso_639_1': 'en', 'name': 'English'}]</td>\n",
              "      <td>Released</td>\n",
              "      <td>NaN</td>\n",
              "      <td>Toy Story</td>\n",
              "      <td>False</td>\n",
              "      <td>7.7</td>\n",
              "      <td>5415.0</td>\n",
              "      <td>[{'id': 931, 'name': 'jealousy'}, {'id': 4290,...</td>\n",
              "    </tr>\n",
              "    <tr>\n",
              "      <th>1</th>\n",
              "      <td>[{'cast_id': 1, 'character': 'Alan Parrish', '...</td>\n",
              "      <td>[{'credit_id': '52fe44bfc3a36847f80a7cd1', 'de...</td>\n",
              "      <td>8844</td>\n",
              "      <td>False</td>\n",
              "      <td>NaN</td>\n",
              "      <td>65000000</td>\n",
              "      <td>[{'id': 12, 'name': 'Adventure'}, {'id': 14, '...</td>\n",
              "      <td>NaN</td>\n",
              "      <td>tt0113497</td>\n",
              "      <td>en</td>\n",
              "      <td>...</td>\n",
              "      <td>262797249.0</td>\n",
              "      <td>104.0</td>\n",
              "      <td>[{'iso_639_1': 'en', 'name': 'English'}, {'iso...</td>\n",
              "      <td>Released</td>\n",
              "      <td>Roll the dice and unleash the excitement!</td>\n",
              "      <td>Jumanji</td>\n",
              "      <td>False</td>\n",
              "      <td>6.9</td>\n",
              "      <td>2413.0</td>\n",
              "      <td>[{'id': 10090, 'name': 'board game'}, {'id': 1...</td>\n",
              "    </tr>\n",
              "    <tr>\n",
              "      <th>2</th>\n",
              "      <td>[{'cast_id': 2, 'character': 'Max Goldman', 'c...</td>\n",
              "      <td>[{'credit_id': '52fe466a9251416c75077a89', 'de...</td>\n",
              "      <td>15602</td>\n",
              "      <td>False</td>\n",
              "      <td>{'id': 119050, 'name': 'Grumpy Old Men Collect...</td>\n",
              "      <td>0</td>\n",
              "      <td>[{'id': 10749, 'name': 'Romance'}, {'id': 35, ...</td>\n",
              "      <td>NaN</td>\n",
              "      <td>tt0113228</td>\n",
              "      <td>en</td>\n",
              "      <td>...</td>\n",
              "      <td>0.0</td>\n",
              "      <td>101.0</td>\n",
              "      <td>[{'iso_639_1': 'en', 'name': 'English'}]</td>\n",
              "      <td>Released</td>\n",
              "      <td>Still Yelling. Still Fighting. Still Ready for...</td>\n",
              "      <td>Grumpier Old Men</td>\n",
              "      <td>False</td>\n",
              "      <td>6.5</td>\n",
              "      <td>92.0</td>\n",
              "      <td>[{'id': 1495, 'name': 'fishing'}, {'id': 12392...</td>\n",
              "    </tr>\n",
              "    <tr>\n",
              "      <th>3</th>\n",
              "      <td>[{'cast_id': 1, 'character': \"Savannah 'Vannah...</td>\n",
              "      <td>[{'credit_id': '52fe44779251416c91011acb', 'de...</td>\n",
              "      <td>31357</td>\n",
              "      <td>False</td>\n",
              "      <td>NaN</td>\n",
              "      <td>16000000</td>\n",
              "      <td>[{'id': 35, 'name': 'Comedy'}, {'id': 18, 'nam...</td>\n",
              "      <td>NaN</td>\n",
              "      <td>tt0114885</td>\n",
              "      <td>en</td>\n",
              "      <td>...</td>\n",
              "      <td>81452156.0</td>\n",
              "      <td>127.0</td>\n",
              "      <td>[{'iso_639_1': 'en', 'name': 'English'}]</td>\n",
              "      <td>Released</td>\n",
              "      <td>Friends are the people who let you be yourself...</td>\n",
              "      <td>Waiting to Exhale</td>\n",
              "      <td>False</td>\n",
              "      <td>6.1</td>\n",
              "      <td>34.0</td>\n",
              "      <td>[{'id': 818, 'name': 'based on novel'}, {'id':...</td>\n",
              "    </tr>\n",
              "    <tr>\n",
              "      <th>4</th>\n",
              "      <td>[{'cast_id': 1, 'character': 'George Banks', '...</td>\n",
              "      <td>[{'credit_id': '52fe44959251416c75039ed7', 'de...</td>\n",
              "      <td>11862</td>\n",
              "      <td>False</td>\n",
              "      <td>{'id': 96871, 'name': 'Father of the Bride Col...</td>\n",
              "      <td>0</td>\n",
              "      <td>[{'id': 35, 'name': 'Comedy'}]</td>\n",
              "      <td>NaN</td>\n",
              "      <td>tt0113041</td>\n",
              "      <td>en</td>\n",
              "      <td>...</td>\n",
              "      <td>76578911.0</td>\n",
              "      <td>106.0</td>\n",
              "      <td>[{'iso_639_1': 'en', 'name': 'English'}]</td>\n",
              "      <td>Released</td>\n",
              "      <td>Just When His World Is Back To Normal... He's ...</td>\n",
              "      <td>Father of the Bride Part II</td>\n",
              "      <td>False</td>\n",
              "      <td>5.7</td>\n",
              "      <td>173.0</td>\n",
              "      <td>[{'id': 1009, 'name': 'baby'}, {'id': 1599, 'n...</td>\n",
              "    </tr>\n",
              "  </tbody>\n",
              "</table>\n",
              "<p>5 rows × 27 columns</p>\n",
              "</div>\n",
              "      <button class=\"colab-df-convert\" onclick=\"convertToInteractive('df-b2881aed-5ca5-46be-8841-88744cfab3d2')\"\n",
              "              title=\"Convert this dataframe to an interactive table.\"\n",
              "              style=\"display:none;\">\n",
              "        \n",
              "  <svg xmlns=\"http://www.w3.org/2000/svg\" height=\"24px\"viewBox=\"0 0 24 24\"\n",
              "       width=\"24px\">\n",
              "    <path d=\"M0 0h24v24H0V0z\" fill=\"none\"/>\n",
              "    <path d=\"M18.56 5.44l.94 2.06.94-2.06 2.06-.94-2.06-.94-.94-2.06-.94 2.06-2.06.94zm-11 1L8.5 8.5l.94-2.06 2.06-.94-2.06-.94L8.5 2.5l-.94 2.06-2.06.94zm10 10l.94 2.06.94-2.06 2.06-.94-2.06-.94-.94-2.06-.94 2.06-2.06.94z\"/><path d=\"M17.41 7.96l-1.37-1.37c-.4-.4-.92-.59-1.43-.59-.52 0-1.04.2-1.43.59L10.3 9.45l-7.72 7.72c-.78.78-.78 2.05 0 2.83L4 21.41c.39.39.9.59 1.41.59.51 0 1.02-.2 1.41-.59l7.78-7.78 2.81-2.81c.8-.78.8-2.07 0-2.86zM5.41 20L4 18.59l7.72-7.72 1.47 1.35L5.41 20z\"/>\n",
              "  </svg>\n",
              "      </button>\n",
              "      \n",
              "  <style>\n",
              "    .colab-df-container {\n",
              "      display:flex;\n",
              "      flex-wrap:wrap;\n",
              "      gap: 12px;\n",
              "    }\n",
              "\n",
              "    .colab-df-convert {\n",
              "      background-color: #E8F0FE;\n",
              "      border: none;\n",
              "      border-radius: 50%;\n",
              "      cursor: pointer;\n",
              "      display: none;\n",
              "      fill: #1967D2;\n",
              "      height: 32px;\n",
              "      padding: 0 0 0 0;\n",
              "      width: 32px;\n",
              "    }\n",
              "\n",
              "    .colab-df-convert:hover {\n",
              "      background-color: #E2EBFA;\n",
              "      box-shadow: 0px 1px 2px rgba(60, 64, 67, 0.3), 0px 1px 3px 1px rgba(60, 64, 67, 0.15);\n",
              "      fill: #174EA6;\n",
              "    }\n",
              "\n",
              "    [theme=dark] .colab-df-convert {\n",
              "      background-color: #3B4455;\n",
              "      fill: #D2E3FC;\n",
              "    }\n",
              "\n",
              "    [theme=dark] .colab-df-convert:hover {\n",
              "      background-color: #434B5C;\n",
              "      box-shadow: 0px 1px 3px 1px rgba(0, 0, 0, 0.15);\n",
              "      filter: drop-shadow(0px 1px 2px rgba(0, 0, 0, 0.3));\n",
              "      fill: #FFFFFF;\n",
              "    }\n",
              "  </style>\n",
              "\n",
              "      <script>\n",
              "        const buttonEl =\n",
              "          document.querySelector('#df-b2881aed-5ca5-46be-8841-88744cfab3d2 button.colab-df-convert');\n",
              "        buttonEl.style.display =\n",
              "          google.colab.kernel.accessAllowed ? 'block' : 'none';\n",
              "\n",
              "        async function convertToInteractive(key) {\n",
              "          const element = document.querySelector('#df-b2881aed-5ca5-46be-8841-88744cfab3d2');\n",
              "          const dataTable =\n",
              "            await google.colab.kernel.invokeFunction('convertToInteractive',\n",
              "                                                     [key], {});\n",
              "          if (!dataTable) return;\n",
              "\n",
              "          const docLinkHtml = 'Like what you see? Visit the ' +\n",
              "            '<a target=\"_blank\" href=https://colab.research.google.com/notebooks/data_table.ipynb>data table notebook</a>'\n",
              "            + ' to learn more about interactive tables.';\n",
              "          element.innerHTML = '';\n",
              "          dataTable['output_type'] = 'display_data';\n",
              "          await google.colab.output.renderOutput(dataTable, element);\n",
              "          const docLink = document.createElement('div');\n",
              "          docLink.innerHTML = docLinkHtml;\n",
              "          element.appendChild(docLink);\n",
              "        }\n",
              "      </script>\n",
              "    </div>\n",
              "  </div>\n",
              "  "
            ],
            "text/plain": [
              "                                                cast  \\\n",
              "0  [{'cast_id': 14, 'character': 'Woody (voice)',...   \n",
              "1  [{'cast_id': 1, 'character': 'Alan Parrish', '...   \n",
              "2  [{'cast_id': 2, 'character': 'Max Goldman', 'c...   \n",
              "3  [{'cast_id': 1, 'character': \"Savannah 'Vannah...   \n",
              "4  [{'cast_id': 1, 'character': 'George Banks', '...   \n",
              "\n",
              "                                                crew     id  adult  \\\n",
              "0  [{'credit_id': '52fe4284c3a36847f8024f49', 'de...    862  False   \n",
              "1  [{'credit_id': '52fe44bfc3a36847f80a7cd1', 'de...   8844  False   \n",
              "2  [{'credit_id': '52fe466a9251416c75077a89', 'de...  15602  False   \n",
              "3  [{'credit_id': '52fe44779251416c91011acb', 'de...  31357  False   \n",
              "4  [{'credit_id': '52fe44959251416c75039ed7', 'de...  11862  False   \n",
              "\n",
              "                               belongs_to_collection    budget  \\\n",
              "0  {'id': 10194, 'name': 'Toy Story Collection', ...  30000000   \n",
              "1                                                NaN  65000000   \n",
              "2  {'id': 119050, 'name': 'Grumpy Old Men Collect...         0   \n",
              "3                                                NaN  16000000   \n",
              "4  {'id': 96871, 'name': 'Father of the Bride Col...         0   \n",
              "\n",
              "                                              genres  \\\n",
              "0  [{'id': 16, 'name': 'Animation'}, {'id': 35, '...   \n",
              "1  [{'id': 12, 'name': 'Adventure'}, {'id': 14, '...   \n",
              "2  [{'id': 10749, 'name': 'Romance'}, {'id': 35, ...   \n",
              "3  [{'id': 35, 'name': 'Comedy'}, {'id': 18, 'nam...   \n",
              "4                     [{'id': 35, 'name': 'Comedy'}]   \n",
              "\n",
              "                               homepage    imdb_id original_language  ...  \\\n",
              "0  http://toystory.disney.com/toy-story  tt0114709                en  ...   \n",
              "1                                   NaN  tt0113497                en  ...   \n",
              "2                                   NaN  tt0113228                en  ...   \n",
              "3                                   NaN  tt0114885                en  ...   \n",
              "4                                   NaN  tt0113041                en  ...   \n",
              "\n",
              "       revenue runtime                                   spoken_languages  \\\n",
              "0  373554033.0    81.0           [{'iso_639_1': 'en', 'name': 'English'}]   \n",
              "1  262797249.0   104.0  [{'iso_639_1': 'en', 'name': 'English'}, {'iso...   \n",
              "2          0.0   101.0           [{'iso_639_1': 'en', 'name': 'English'}]   \n",
              "3   81452156.0   127.0           [{'iso_639_1': 'en', 'name': 'English'}]   \n",
              "4   76578911.0   106.0           [{'iso_639_1': 'en', 'name': 'English'}]   \n",
              "\n",
              "     status                                            tagline  \\\n",
              "0  Released                                                NaN   \n",
              "1  Released          Roll the dice and unleash the excitement!   \n",
              "2  Released  Still Yelling. Still Fighting. Still Ready for...   \n",
              "3  Released  Friends are the people who let you be yourself...   \n",
              "4  Released  Just When His World Is Back To Normal... He's ...   \n",
              "\n",
              "                         title  video  vote_average  vote_count  \\\n",
              "0                    Toy Story  False           7.7      5415.0   \n",
              "1                      Jumanji  False           6.9      2413.0   \n",
              "2             Grumpier Old Men  False           6.5        92.0   \n",
              "3            Waiting to Exhale  False           6.1        34.0   \n",
              "4  Father of the Bride Part II  False           5.7       173.0   \n",
              "\n",
              "                                            keywords  \n",
              "0  [{'id': 931, 'name': 'jealousy'}, {'id': 4290,...  \n",
              "1  [{'id': 10090, 'name': 'board game'}, {'id': 1...  \n",
              "2  [{'id': 1495, 'name': 'fishing'}, {'id': 12392...  \n",
              "3  [{'id': 818, 'name': 'based on novel'}, {'id':...  \n",
              "4  [{'id': 1009, 'name': 'baby'}, {'id': 1599, 'n...  \n",
              "\n",
              "[5 rows x 27 columns]"
            ]
          },
          "execution_count": 25,
          "metadata": {},
          "output_type": "execute_result"
        }
      ],
      "source": [
        "df.head()"
      ]
    },
    {
      "cell_type": "markdown",
      "metadata": {
        "id": "mqNis6dEKCGn"
      },
      "source": [
        "## Pre-Processing"
      ]
    },
    {
      "cell_type": "code",
      "execution_count": null,
      "metadata": {
        "colab": {
          "base_uri": "https://localhost:8080/"
        },
        "id": "nqCWZzNaGwpM",
        "outputId": "1418820d-80a6-4a54-cfff-a99acf540a5b"
      },
      "outputs": [
        {
          "name": "stdout",
          "output_type": "stream",
          "text": [
            "0\n"
          ]
        }
      ],
      "source": [
        "# Choose which columns will be used.\n",
        "df = df[['title','cast', 'crew', 'genres','keywords','original_language']]\n",
        "print(sum(df.isnull().any()))"
      ]
    },
    {
      "cell_type": "markdown",
      "metadata": {
        "id": "SsibgbpPGwpM"
      },
      "source": [
        "* No null values"
      ]
    },
    {
      "cell_type": "code",
      "execution_count": null,
      "metadata": {
        "colab": {
          "base_uri": "https://localhost:8080/",
          "height": 641
        },
        "id": "eG4Mp0HbMpEU",
        "outputId": "3ec7bb4f-7d00-4691-bb3e-bab0a1747402"
      },
      "outputs": [
        {
          "data": {
            "text/html": [
              "\n",
              "  <div id=\"df-c93d0781-5d2d-4f13-a204-5764cf13cec1\">\n",
              "    <div class=\"colab-df-container\">\n",
              "      <div>\n",
              "<style scoped>\n",
              "    .dataframe tbody tr th:only-of-type {\n",
              "        vertical-align: middle;\n",
              "    }\n",
              "\n",
              "    .dataframe tbody tr th {\n",
              "        vertical-align: top;\n",
              "    }\n",
              "\n",
              "    .dataframe thead th {\n",
              "        text-align: right;\n",
              "    }\n",
              "</style>\n",
              "<table border=\"1\" class=\"dataframe\">\n",
              "  <thead>\n",
              "    <tr style=\"text-align: right;\">\n",
              "      <th></th>\n",
              "      <th>title</th>\n",
              "      <th>cast</th>\n",
              "      <th>crew</th>\n",
              "      <th>genres</th>\n",
              "      <th>keywords</th>\n",
              "      <th>original_language</th>\n",
              "    </tr>\n",
              "  </thead>\n",
              "  <tbody>\n",
              "    <tr>\n",
              "      <th>0</th>\n",
              "      <td>Toy Story</td>\n",
              "      <td>[{'cast_id': 14, 'character': 'Woody (voice)',...</td>\n",
              "      <td>[{'credit_id': '52fe4284c3a36847f8024f49', 'de...</td>\n",
              "      <td>[{'id': 16, 'name': 'Animation'}, {'id': 35, '...</td>\n",
              "      <td>[{'id': 931, 'name': 'jealousy'}, {'id': 4290,...</td>\n",
              "      <td>en</td>\n",
              "    </tr>\n",
              "    <tr>\n",
              "      <th>1</th>\n",
              "      <td>Jumanji</td>\n",
              "      <td>[{'cast_id': 1, 'character': 'Alan Parrish', '...</td>\n",
              "      <td>[{'credit_id': '52fe44bfc3a36847f80a7cd1', 'de...</td>\n",
              "      <td>[{'id': 12, 'name': 'Adventure'}, {'id': 14, '...</td>\n",
              "      <td>[{'id': 10090, 'name': 'board game'}, {'id': 1...</td>\n",
              "      <td>en</td>\n",
              "    </tr>\n",
              "    <tr>\n",
              "      <th>2</th>\n",
              "      <td>Grumpier Old Men</td>\n",
              "      <td>[{'cast_id': 2, 'character': 'Max Goldman', 'c...</td>\n",
              "      <td>[{'credit_id': '52fe466a9251416c75077a89', 'de...</td>\n",
              "      <td>[{'id': 10749, 'name': 'Romance'}, {'id': 35, ...</td>\n",
              "      <td>[{'id': 1495, 'name': 'fishing'}, {'id': 12392...</td>\n",
              "      <td>en</td>\n",
              "    </tr>\n",
              "    <tr>\n",
              "      <th>3</th>\n",
              "      <td>Waiting to Exhale</td>\n",
              "      <td>[{'cast_id': 1, 'character': \"Savannah 'Vannah...</td>\n",
              "      <td>[{'credit_id': '52fe44779251416c91011acb', 'de...</td>\n",
              "      <td>[{'id': 35, 'name': 'Comedy'}, {'id': 18, 'nam...</td>\n",
              "      <td>[{'id': 818, 'name': 'based on novel'}, {'id':...</td>\n",
              "      <td>en</td>\n",
              "    </tr>\n",
              "    <tr>\n",
              "      <th>4</th>\n",
              "      <td>Father of the Bride Part II</td>\n",
              "      <td>[{'cast_id': 1, 'character': 'George Banks', '...</td>\n",
              "      <td>[{'credit_id': '52fe44959251416c75039ed7', 'de...</td>\n",
              "      <td>[{'id': 35, 'name': 'Comedy'}]</td>\n",
              "      <td>[{'id': 1009, 'name': 'baby'}, {'id': 1599, 'n...</td>\n",
              "      <td>en</td>\n",
              "    </tr>\n",
              "    <tr>\n",
              "      <th>...</th>\n",
              "      <td>...</td>\n",
              "      <td>...</td>\n",
              "      <td>...</td>\n",
              "      <td>...</td>\n",
              "      <td>...</td>\n",
              "      <td>...</td>\n",
              "    </tr>\n",
              "    <tr>\n",
              "      <th>9995</th>\n",
              "      <td>National Lampoon's Gold Diggers</td>\n",
              "      <td>[{'cast_id': 4, 'character': 'Calvin Menhoffer...</td>\n",
              "      <td>[{'credit_id': '52fe467cc3a36847f81019f9', 'de...</td>\n",
              "      <td>[{'id': 35, 'name': 'Comedy'}]</td>\n",
              "      <td>[]</td>\n",
              "      <td>en</td>\n",
              "    </tr>\n",
              "    <tr>\n",
              "      <th>9996</th>\n",
              "      <td>Blind Horizon</td>\n",
              "      <td>[{'cast_id': 1, 'character': 'Frank Kavanaugh'...</td>\n",
              "      <td>[{'credit_id': '59665828c3a36825e8116b9a', 'de...</td>\n",
              "      <td>[{'id': 18, 'name': 'Drama'}, {'id': 53, 'name...</td>\n",
              "      <td>[]</td>\n",
              "      <td>en</td>\n",
              "    </tr>\n",
              "    <tr>\n",
              "      <th>9997</th>\n",
              "      <td>Islands in the Stream</td>\n",
              "      <td>[{'cast_id': 1029, 'character': 'Thomas Hudson...</td>\n",
              "      <td>[{'credit_id': '52fe481ac3a368484e0e94f9', 'de...</td>\n",
              "      <td>[{'id': 18, 'name': 'Drama'}]</td>\n",
              "      <td>[]</td>\n",
              "      <td>en</td>\n",
              "    </tr>\n",
              "    <tr>\n",
              "      <th>9998</th>\n",
              "      <td>Go for Broke!</td>\n",
              "      <td>[{'cast_id': 1, 'character': 'Lt. Michael Gray...</td>\n",
              "      <td>[{'credit_id': '52fe46349251416c9104cb19', 'de...</td>\n",
              "      <td>[{'id': 28, 'name': 'Action'}, {'id': 18, 'nam...</td>\n",
              "      <td>[{'id': 1956, 'name': 'world war ii'}, {'id': ...</td>\n",
              "      <td>en</td>\n",
              "    </tr>\n",
              "    <tr>\n",
              "      <th>9999</th>\n",
              "      <td>The Blood on Satan's Claw</td>\n",
              "      <td>[{'cast_id': 1, 'character': 'The Judge', 'cre...</td>\n",
              "      <td>[{'credit_id': '52fe4518c3a368484e04830d', 'de...</td>\n",
              "      <td>[{'id': 27, 'name': 'Horror'}, {'id': 53, 'nam...</td>\n",
              "      <td>[{'id': 392, 'name': 'england'}, {'id': 570, '...</td>\n",
              "      <td>en</td>\n",
              "    </tr>\n",
              "  </tbody>\n",
              "</table>\n",
              "<p>10000 rows × 6 columns</p>\n",
              "</div>\n",
              "      <button class=\"colab-df-convert\" onclick=\"convertToInteractive('df-c93d0781-5d2d-4f13-a204-5764cf13cec1')\"\n",
              "              title=\"Convert this dataframe to an interactive table.\"\n",
              "              style=\"display:none;\">\n",
              "        \n",
              "  <svg xmlns=\"http://www.w3.org/2000/svg\" height=\"24px\"viewBox=\"0 0 24 24\"\n",
              "       width=\"24px\">\n",
              "    <path d=\"M0 0h24v24H0V0z\" fill=\"none\"/>\n",
              "    <path d=\"M18.56 5.44l.94 2.06.94-2.06 2.06-.94-2.06-.94-.94-2.06-.94 2.06-2.06.94zm-11 1L8.5 8.5l.94-2.06 2.06-.94-2.06-.94L8.5 2.5l-.94 2.06-2.06.94zm10 10l.94 2.06.94-2.06 2.06-.94-2.06-.94-.94-2.06-.94 2.06-2.06.94z\"/><path d=\"M17.41 7.96l-1.37-1.37c-.4-.4-.92-.59-1.43-.59-.52 0-1.04.2-1.43.59L10.3 9.45l-7.72 7.72c-.78.78-.78 2.05 0 2.83L4 21.41c.39.39.9.59 1.41.59.51 0 1.02-.2 1.41-.59l7.78-7.78 2.81-2.81c.8-.78.8-2.07 0-2.86zM5.41 20L4 18.59l7.72-7.72 1.47 1.35L5.41 20z\"/>\n",
              "  </svg>\n",
              "      </button>\n",
              "      \n",
              "  <style>\n",
              "    .colab-df-container {\n",
              "      display:flex;\n",
              "      flex-wrap:wrap;\n",
              "      gap: 12px;\n",
              "    }\n",
              "\n",
              "    .colab-df-convert {\n",
              "      background-color: #E8F0FE;\n",
              "      border: none;\n",
              "      border-radius: 50%;\n",
              "      cursor: pointer;\n",
              "      display: none;\n",
              "      fill: #1967D2;\n",
              "      height: 32px;\n",
              "      padding: 0 0 0 0;\n",
              "      width: 32px;\n",
              "    }\n",
              "\n",
              "    .colab-df-convert:hover {\n",
              "      background-color: #E2EBFA;\n",
              "      box-shadow: 0px 1px 2px rgba(60, 64, 67, 0.3), 0px 1px 3px 1px rgba(60, 64, 67, 0.15);\n",
              "      fill: #174EA6;\n",
              "    }\n",
              "\n",
              "    [theme=dark] .colab-df-convert {\n",
              "      background-color: #3B4455;\n",
              "      fill: #D2E3FC;\n",
              "    }\n",
              "\n",
              "    [theme=dark] .colab-df-convert:hover {\n",
              "      background-color: #434B5C;\n",
              "      box-shadow: 0px 1px 3px 1px rgba(0, 0, 0, 0.15);\n",
              "      filter: drop-shadow(0px 1px 2px rgba(0, 0, 0, 0.3));\n",
              "      fill: #FFFFFF;\n",
              "    }\n",
              "  </style>\n",
              "\n",
              "      <script>\n",
              "        const buttonEl =\n",
              "          document.querySelector('#df-c93d0781-5d2d-4f13-a204-5764cf13cec1 button.colab-df-convert');\n",
              "        buttonEl.style.display =\n",
              "          google.colab.kernel.accessAllowed ? 'block' : 'none';\n",
              "\n",
              "        async function convertToInteractive(key) {\n",
              "          const element = document.querySelector('#df-c93d0781-5d2d-4f13-a204-5764cf13cec1');\n",
              "          const dataTable =\n",
              "            await google.colab.kernel.invokeFunction('convertToInteractive',\n",
              "                                                     [key], {});\n",
              "          if (!dataTable) return;\n",
              "\n",
              "          const docLinkHtml = 'Like what you see? Visit the ' +\n",
              "            '<a target=\"_blank\" href=https://colab.research.google.com/notebooks/data_table.ipynb>data table notebook</a>'\n",
              "            + ' to learn more about interactive tables.';\n",
              "          element.innerHTML = '';\n",
              "          dataTable['output_type'] = 'display_data';\n",
              "          await google.colab.output.renderOutput(dataTable, element);\n",
              "          const docLink = document.createElement('div');\n",
              "          docLink.innerHTML = docLinkHtml;\n",
              "          element.appendChild(docLink);\n",
              "        }\n",
              "      </script>\n",
              "    </div>\n",
              "  </div>\n",
              "  "
            ],
            "text/plain": [
              "                                title  \\\n",
              "0                           Toy Story   \n",
              "1                             Jumanji   \n",
              "2                    Grumpier Old Men   \n",
              "3                   Waiting to Exhale   \n",
              "4         Father of the Bride Part II   \n",
              "...                               ...   \n",
              "9995  National Lampoon's Gold Diggers   \n",
              "9996                    Blind Horizon   \n",
              "9997            Islands in the Stream   \n",
              "9998                    Go for Broke!   \n",
              "9999        The Blood on Satan's Claw   \n",
              "\n",
              "                                                   cast  \\\n",
              "0     [{'cast_id': 14, 'character': 'Woody (voice)',...   \n",
              "1     [{'cast_id': 1, 'character': 'Alan Parrish', '...   \n",
              "2     [{'cast_id': 2, 'character': 'Max Goldman', 'c...   \n",
              "3     [{'cast_id': 1, 'character': \"Savannah 'Vannah...   \n",
              "4     [{'cast_id': 1, 'character': 'George Banks', '...   \n",
              "...                                                 ...   \n",
              "9995  [{'cast_id': 4, 'character': 'Calvin Menhoffer...   \n",
              "9996  [{'cast_id': 1, 'character': 'Frank Kavanaugh'...   \n",
              "9997  [{'cast_id': 1029, 'character': 'Thomas Hudson...   \n",
              "9998  [{'cast_id': 1, 'character': 'Lt. Michael Gray...   \n",
              "9999  [{'cast_id': 1, 'character': 'The Judge', 'cre...   \n",
              "\n",
              "                                                   crew  \\\n",
              "0     [{'credit_id': '52fe4284c3a36847f8024f49', 'de...   \n",
              "1     [{'credit_id': '52fe44bfc3a36847f80a7cd1', 'de...   \n",
              "2     [{'credit_id': '52fe466a9251416c75077a89', 'de...   \n",
              "3     [{'credit_id': '52fe44779251416c91011acb', 'de...   \n",
              "4     [{'credit_id': '52fe44959251416c75039ed7', 'de...   \n",
              "...                                                 ...   \n",
              "9995  [{'credit_id': '52fe467cc3a36847f81019f9', 'de...   \n",
              "9996  [{'credit_id': '59665828c3a36825e8116b9a', 'de...   \n",
              "9997  [{'credit_id': '52fe481ac3a368484e0e94f9', 'de...   \n",
              "9998  [{'credit_id': '52fe46349251416c9104cb19', 'de...   \n",
              "9999  [{'credit_id': '52fe4518c3a368484e04830d', 'de...   \n",
              "\n",
              "                                                 genres  \\\n",
              "0     [{'id': 16, 'name': 'Animation'}, {'id': 35, '...   \n",
              "1     [{'id': 12, 'name': 'Adventure'}, {'id': 14, '...   \n",
              "2     [{'id': 10749, 'name': 'Romance'}, {'id': 35, ...   \n",
              "3     [{'id': 35, 'name': 'Comedy'}, {'id': 18, 'nam...   \n",
              "4                        [{'id': 35, 'name': 'Comedy'}]   \n",
              "...                                                 ...   \n",
              "9995                     [{'id': 35, 'name': 'Comedy'}]   \n",
              "9996  [{'id': 18, 'name': 'Drama'}, {'id': 53, 'name...   \n",
              "9997                      [{'id': 18, 'name': 'Drama'}]   \n",
              "9998  [{'id': 28, 'name': 'Action'}, {'id': 18, 'nam...   \n",
              "9999  [{'id': 27, 'name': 'Horror'}, {'id': 53, 'nam...   \n",
              "\n",
              "                                               keywords original_language  \n",
              "0     [{'id': 931, 'name': 'jealousy'}, {'id': 4290,...                en  \n",
              "1     [{'id': 10090, 'name': 'board game'}, {'id': 1...                en  \n",
              "2     [{'id': 1495, 'name': 'fishing'}, {'id': 12392...                en  \n",
              "3     [{'id': 818, 'name': 'based on novel'}, {'id':...                en  \n",
              "4     [{'id': 1009, 'name': 'baby'}, {'id': 1599, 'n...                en  \n",
              "...                                                 ...               ...  \n",
              "9995                                                 []                en  \n",
              "9996                                                 []                en  \n",
              "9997                                                 []                en  \n",
              "9998  [{'id': 1956, 'name': 'world war ii'}, {'id': ...                en  \n",
              "9999  [{'id': 392, 'name': 'england'}, {'id': 570, '...                en  \n",
              "\n",
              "[10000 rows x 6 columns]"
            ]
          },
          "execution_count": 28,
          "metadata": {},
          "output_type": "execute_result"
        }
      ],
      "source": [
        "df"
      ]
    },
    {
      "cell_type": "code",
      "execution_count": null,
      "metadata": {
        "id": "ct4wFBb_GwpN"
      },
      "outputs": [],
      "source": [
        "import unicodedata\n",
        "import re\n",
        "def clean_data(value):\n",
        "    value =  unicodedata.normalize('NFD', value).encode('ascii', 'ignore').decode('ascii')\n",
        "    x = str.lower(re.sub(r\"[^a-zA-Z0-9]+\", '_', value.strip().replace(\" \",\"_\")))\n",
        "    if(x != '_'):\n",
        "        return x \n",
        "    else:\n",
        "        return \" \" "
      ]
    },
    {
      "cell_type": "markdown",
      "metadata": {
        "id": "ux8ZGVScGwpO"
      },
      "source": [
        "*  Data maybe consist of lower/upper case problems. We can solve this problem using regular expressions"
      ]
    },
    {
      "cell_type": "code",
      "execution_count": null,
      "metadata": {
        "colab": {
          "base_uri": "https://localhost:8080/"
        },
        "id": "l-ubUejZGwpO",
        "outputId": "8cbf176b-0231-4d1b-908d-2a4baf8fce76"
      },
      "outputs": [
        {
          "data": {
            "text/plain": [
              "0       [{'cast_id': 14, 'character': 'Woody (voice)',...\n",
              "1       [{'cast_id': 1, 'character': 'Alan Parrish', '...\n",
              "2       [{'cast_id': 2, 'character': 'Max Goldman', 'c...\n",
              "3       [{'cast_id': 1, 'character': \"Savannah 'Vannah...\n",
              "4       [{'cast_id': 1, 'character': 'George Banks', '...\n",
              "                              ...                        \n",
              "9995    [{'cast_id': 4, 'character': 'Calvin Menhoffer...\n",
              "9996    [{'cast_id': 1, 'character': 'Frank Kavanaugh'...\n",
              "9997    [{'cast_id': 1029, 'character': 'Thomas Hudson...\n",
              "9998    [{'cast_id': 1, 'character': 'Lt. Michael Gray...\n",
              "9999    [{'cast_id': 1, 'character': 'The Judge', 'cre...\n",
              "Name: cast, Length: 10000, dtype: object"
            ]
          },
          "execution_count": 30,
          "metadata": {},
          "output_type": "execute_result"
        }
      ],
      "source": [
        "# And also we want to use words. So we must rearrange these data. For example cast values are like that:\n",
        "df.cast"
      ]
    },
    {
      "cell_type": "code",
      "execution_count": null,
      "metadata": {
        "colab": {
          "base_uri": "https://localhost:8080/"
        },
        "id": "_v-T1FabGwpP",
        "outputId": "abd271be-c17e-4d8a-aa4d-b942a623b0e1"
      },
      "outputs": [
        {
          "data": {
            "text/plain": [
              "0       [tom_hanks, tim_allen, don_rickles, jim_varney...\n",
              "1       [robin_williams, jonathan_hyde, kirsten_dunst,...\n",
              "2       [walter_matthau, jack_lemmon, ann_margret, sop...\n",
              "3       [whitney_houston, angela_bassett, loretta_devi...\n",
              "4       [steve_martin, diane_keaton, martin_short, kim...\n",
              "                              ...                        \n",
              "9995    [will_friedle, chris_owen, louise_lasser, rene...\n",
              "9996    [val_kilmer, neve_campbell, sam_shepard, amy_s...\n",
              "9997    [george_c_scott, david_hemmings, gilbert_rolan...\n",
              "9998    [van_johnson, lane_nakano, george_miki, akira_...\n",
              "9999    [patrick_wymark, linda_hayden, barry_andrews, ...\n",
              "Name: cast, Length: 10000, dtype: object"
            ]
          },
          "execution_count": 31,
          "metadata": {},
          "output_type": "execute_result"
        }
      ],
      "source": [
        "import ast\n",
        "df['cast'] = df['cast'].apply(lambda s: list(ast.literal_eval(s)))\n",
        "df['cast'] = df['cast'].apply((lambda cast : [clean_data(actor['name']) for actor in cast]))\n",
        "df.cast"
      ]
    },
    {
      "cell_type": "code",
      "execution_count": null,
      "metadata": {
        "colab": {
          "base_uri": "https://localhost:8080/"
        },
        "id": "m9wBgt5sGwpQ",
        "outputId": "97f6a04c-d350-41de-a85e-f0c07161b456"
      },
      "outputs": [
        {
          "name": "stdout",
          "output_type": "stream",
          "text": [
            "0                             Toy Story\n",
            "1                               Jumanji\n",
            "2                      Grumpier Old Men\n",
            "3                     Waiting to Exhale\n",
            "4           Father of the Bride Part II\n",
            "                     ...               \n",
            "9995    National Lampoon's Gold Diggers\n",
            "9996                      Blind Horizon\n",
            "9997              Islands in the Stream\n",
            "9998                      Go for Broke!\n",
            "9999          The Blood on Satan's Claw\n",
            "Name: title, Length: 10000, dtype: object\n",
            "*****************************************\n"
          ]
        },
        {
          "data": {
            "text/plain": [
              "0                             toy_story\n",
              "1                               jumanji\n",
              "2                      grumpier_old_men\n",
              "3                     waiting_to_exhale\n",
              "4           father_of_the_bride_part_ii\n",
              "                     ...               \n",
              "9995    national_lampoon_s_gold_diggers\n",
              "9996                      blind_horizon\n",
              "9997              islands_in_the_stream\n",
              "9998                      go_for_broke_\n",
              "9999          the_blood_on_satan_s_claw\n",
              "Name: title, Length: 10000, dtype: object"
            ]
          },
          "execution_count": 32,
          "metadata": {},
          "output_type": "execute_result"
        }
      ],
      "source": [
        "print(df.title)\n",
        "print(\"*****************************************\")\n",
        "df['title'] = df['title'].apply((lambda title: clean_data(title)))\n",
        "df.title"
      ]
    },
    {
      "cell_type": "code",
      "execution_count": null,
      "metadata": {
        "colab": {
          "base_uri": "https://localhost:8080/"
        },
        "id": "egxXT4x0EsGp",
        "outputId": "94f948ce-8e25-48fd-b389-db61a50c606b"
      },
      "outputs": [
        {
          "data": {
            "text/plain": [
              "[{'id': 16, 'name': 'Animation'},\n",
              " {'id': 35, 'name': 'Comedy'},\n",
              " {'id': 10751, 'name': 'Family'}]"
            ]
          },
          "execution_count": 33,
          "metadata": {},
          "output_type": "execute_result"
        }
      ],
      "source": [
        "ast.literal_eval(df['genres'][0])"
      ]
    },
    {
      "cell_type": "code",
      "execution_count": null,
      "metadata": {
        "colab": {
          "base_uri": "https://localhost:8080/"
        },
        "id": "DbnxAdfhGwpR",
        "outputId": "c744101f-e198-457a-d793-7dcf6d3c702a"
      },
      "outputs": [
        {
          "name": "stdout",
          "output_type": "stream",
          "text": [
            "0       [{'id': 16, 'name': 'Animation'}, {'id': 35, '...\n",
            "1       [{'id': 12, 'name': 'Adventure'}, {'id': 14, '...\n",
            "2       [{'id': 10749, 'name': 'Romance'}, {'id': 35, ...\n",
            "3       [{'id': 35, 'name': 'Comedy'}, {'id': 18, 'nam...\n",
            "4                          [{'id': 35, 'name': 'Comedy'}]\n",
            "                              ...                        \n",
            "9995                       [{'id': 35, 'name': 'Comedy'}]\n",
            "9996    [{'id': 18, 'name': 'Drama'}, {'id': 53, 'name...\n",
            "9997                        [{'id': 18, 'name': 'Drama'}]\n",
            "9998    [{'id': 28, 'name': 'Action'}, {'id': 18, 'nam...\n",
            "9999    [{'id': 27, 'name': 'Horror'}, {'id': 53, 'nam...\n",
            "Name: genres, Length: 10000, dtype: object\n"
          ]
        },
        {
          "data": {
            "text/plain": [
              "0         [animation, comedy, family]\n",
              "1        [adventure, fantasy, family]\n",
              "2                   [romance, comedy]\n",
              "3            [comedy, drama, romance]\n",
              "4                            [comedy]\n",
              "                    ...              \n",
              "9995                         [comedy]\n",
              "9996                [drama, thriller]\n",
              "9997                          [drama]\n",
              "9998    [action, drama, war, history]\n",
              "9999               [horror, thriller]\n",
              "Name: genres, Length: 10000, dtype: object"
            ]
          },
          "execution_count": 34,
          "metadata": {},
          "output_type": "execute_result"
        }
      ],
      "source": [
        "print(df.genres)\n",
        "df['genres'] = df['genres'].apply(lambda s: list(ast.literal_eval(s)))\n",
        "df['genres'] = df['genres'].apply((lambda genres : [clean_data(genre['name']) for genre in genres]))\n",
        "df.genres"
      ]
    },
    {
      "cell_type": "code",
      "execution_count": null,
      "metadata": {
        "colab": {
          "base_uri": "https://localhost:8080/"
        },
        "id": "QZYow5jQGwpS",
        "outputId": "b22c8053-8ef7-4ed7-9b10-e7e746e40229"
      },
      "outputs": [
        {
          "name": "stdout",
          "output_type": "stream",
          "text": [
            "0       [{'id': 931, 'name': 'jealousy'}, {'id': 4290,...\n",
            "1       [{'id': 10090, 'name': 'board game'}, {'id': 1...\n",
            "2       [{'id': 1495, 'name': 'fishing'}, {'id': 12392...\n",
            "3       [{'id': 818, 'name': 'based on novel'}, {'id':...\n",
            "4       [{'id': 1009, 'name': 'baby'}, {'id': 1599, 'n...\n",
            "                              ...                        \n",
            "9995                                                   []\n",
            "9996                                                   []\n",
            "9997                                                   []\n",
            "9998    [{'id': 1956, 'name': 'world war ii'}, {'id': ...\n",
            "9999    [{'id': 392, 'name': 'england'}, {'id': 570, '...\n",
            "Name: keywords, Length: 10000, dtype: object\n"
          ]
        },
        {
          "data": {
            "text/plain": [
              "0               [jealousy, toy, boy, friendship, friends]\n",
              "1       [board_game, disappearance, based_on_children_...\n",
              "2       [fishing, best_friend, duringcreditsstinger, o...\n",
              "3       [based_on_novel, interracial_relationship, sin...\n",
              "4       [baby, midlife_crisis, confidence, aging, daug...\n",
              "                              ...                        \n",
              "9995                                                   []\n",
              "9996                                                   []\n",
              "9997                                                   []\n",
              "9998                                 [world_war_ii, army]\n",
              "9999         [england, rape, nudity, sacrifice, satanism]\n",
              "Name: keywords, Length: 10000, dtype: object"
            ]
          },
          "execution_count": 35,
          "metadata": {},
          "output_type": "execute_result"
        }
      ],
      "source": [
        "print(df.keywords)\n",
        "df['keywords'] = df['keywords'].apply(lambda s: list(ast.literal_eval(s)))\n",
        "df['keywords'] = df['keywords'].apply((lambda keywords : [clean_data(key['name']) for key in keywords[:5]]))\n",
        "df.keywords"
      ]
    },
    {
      "cell_type": "code",
      "execution_count": null,
      "metadata": {
        "colab": {
          "base_uri": "https://localhost:8080/"
        },
        "id": "RN1_i2QfGwpS",
        "outputId": "a1c3ed07-f345-4c00-d20f-085f60d37592"
      },
      "outputs": [
        {
          "name": "stdout",
          "output_type": "stream",
          "text": [
            "0       [{'credit_id': '52fe4284c3a36847f8024f49', 'de...\n",
            "1       [{'credit_id': '52fe44bfc3a36847f80a7cd1', 'de...\n",
            "2       [{'credit_id': '52fe466a9251416c75077a89', 'de...\n",
            "3       [{'credit_id': '52fe44779251416c91011acb', 'de...\n",
            "4       [{'credit_id': '52fe44959251416c75039ed7', 'de...\n",
            "                              ...                        \n",
            "9995    [{'credit_id': '52fe467cc3a36847f81019f9', 'de...\n",
            "9996    [{'credit_id': '59665828c3a36825e8116b9a', 'de...\n",
            "9997    [{'credit_id': '52fe481ac3a368484e0e94f9', 'de...\n",
            "9998    [{'credit_id': '52fe46349251416c9104cb19', 'de...\n",
            "9999    [{'credit_id': '52fe4518c3a368484e04830d', 'de...\n",
            "Name: crew, Length: 10000, dtype: object\n"
          ]
        },
        {
          "data": {
            "text/plain": [
              "0              [john_lasseter]\n",
              "1               [joe_johnston]\n",
              "2              [howard_deutch]\n",
              "3            [forest_whitaker]\n",
              "4              [charles_shyer]\n",
              "                 ...          \n",
              "9995           [gary_preisler]\n",
              "9996        [michael_haussman]\n",
              "9997    [franklin_j_schaffner]\n",
              "9998           [robert_pirosh]\n",
              "9999           [piers_haggard]\n",
              "Name: crew, Length: 10000, dtype: object"
            ]
          },
          "execution_count": 36,
          "metadata": {},
          "output_type": "execute_result"
        }
      ],
      "source": [
        "# The other crew members except director may mislead the model. So select only director name\n",
        "print(df.crew)\n",
        "df['crew'] = df['crew'].apply(lambda s: list(ast.literal_eval(s)))\n",
        "df['crew'] = df['crew'].apply((lambda crew : [clean_data(member['name']) for member in crew if member[\"job\"] == \"Director\"]))\n",
        "df.crew"
      ]
    },
    {
      "cell_type": "code",
      "execution_count": null,
      "metadata": {
        "colab": {
          "base_uri": "https://localhost:8080/"
        },
        "id": "fvbyI9nbGwpT",
        "outputId": "ca2dd980-96e5-468c-96c4-831a93a6d93d"
      },
      "outputs": [
        {
          "name": "stdout",
          "output_type": "stream",
          "text": [
            "0       en\n",
            "1       en\n",
            "2       en\n",
            "3       en\n",
            "4       en\n",
            "        ..\n",
            "9995    en\n",
            "9996    en\n",
            "9997    en\n",
            "9998    en\n",
            "9999    en\n",
            "Name: original_language, Length: 10000, dtype: object\n"
          ]
        },
        {
          "data": {
            "text/plain": [
              "0                             toy_story\n",
              "1                               jumanji\n",
              "2                      grumpier_old_men\n",
              "3                     waiting_to_exhale\n",
              "4           father_of_the_bride_part_ii\n",
              "                     ...               \n",
              "9995    national_lampoon_s_gold_diggers\n",
              "9996                      blind_horizon\n",
              "9997              islands_in_the_stream\n",
              "9998                      go_for_broke_\n",
              "9999          the_blood_on_satan_s_claw\n",
              "Name: title, Length: 10000, dtype: object"
            ]
          },
          "execution_count": 37,
          "metadata": {},
          "output_type": "execute_result"
        }
      ],
      "source": [
        "print(df.original_language)\n",
        "# Dont change anything here\n",
        "df.title"
      ]
    },
    {
      "cell_type": "code",
      "execution_count": null,
      "metadata": {
        "colab": {
          "base_uri": "https://localhost:8080/"
        },
        "id": "gXjhXT9rGwpU",
        "outputId": "0616b8ff-370a-4d80-9746-ad066c85b522"
      },
      "outputs": [
        {
          "name": "stdout",
          "output_type": "stream",
          "text": [
            "0       [tom_hanks, tim_allen, don_rickles, jim_varney...\n",
            "1       [robin_williams, jonathan_hyde, kirsten_dunst,...\n",
            "2       [walter_matthau, jack_lemmon, ann_margret, sop...\n",
            "3       [whitney_houston, angela_bassett, loretta_devi...\n",
            "4       [steve_martin, diane_keaton, martin_short, kim...\n",
            "                              ...                        \n",
            "9995    [will_friedle, chris_owen, louise_lasser, rene...\n",
            "9996    [val_kilmer, neve_campbell, sam_shepard, amy_s...\n",
            "9997    [george_c_scott, david_hemmings, gilbert_rolan...\n",
            "9998    [van_johnson, lane_nakano, george_miki, akira_...\n",
            "9999    [patrick_wymark, linda_hayden, barry_andrews, ...\n",
            "Name: bag_of_words, Length: 10000, dtype: object\n"
          ]
        },
        {
          "data": {
            "text/plain": [
              "0       tom_hanks tim_allen don_rickles jim_varney wal...\n",
              "1       robin_williams jonathan_hyde kirsten_dunst bra...\n",
              "2       walter_matthau jack_lemmon ann_margret sophia_...\n",
              "3       whitney_houston angela_bassett loretta_devine ...\n",
              "4       steve_martin diane_keaton martin_short kimberl...\n",
              "                              ...                        \n",
              "9995    will_friedle chris_owen louise_lasser renee_ta...\n",
              "9996    val_kilmer neve_campbell sam_shepard amy_smart...\n",
              "9997    george_c_scott david_hemmings gilbert_roland h...\n",
              "9998    van_johnson lane_nakano george_miki akira_fuku...\n",
              "9999    patrick_wymark linda_hayden barry_andrews jame...\n",
              "Name: bag_of_words, Length: 10000, dtype: object"
            ]
          },
          "execution_count": 38,
          "metadata": {},
          "output_type": "execute_result"
        }
      ],
      "source": [
        "# Now cumulate all the words on a column, say bag of words :)\n",
        "df['bag_of_words'] = df['cast'] + df['keywords'] + df['genres'] + df['crew'] \n",
        "print(df['bag_of_words'])\n",
        "df['bag_of_words'] = df['bag_of_words'].apply(lambda x: ' '.join(x)) + \" \" + df['title']\n",
        "df.bag_of_words # These act like documents"
      ]
    },
    {
      "cell_type": "markdown",
      "metadata": {
        "id": "NA6lpK_oGwpV"
      },
      "source": [
        "We will extract feature from bag of words. Most command way for text is TF-IDF. And we will use this transformer.\n",
        "(Source: [Scipy documentation](https://scikit-learn.org/stable/modules/generated/sklearn.feature_extraction.text.TfidfTransformer.html#sklearn.feature_extraction.text.TfidfTransformer))\n"
      ]
    },
    {
      "cell_type": "code",
      "execution_count": null,
      "metadata": {
        "colab": {
          "base_uri": "https://localhost:8080/"
        },
        "id": "ErNwLhjBGwpV",
        "outputId": "c9165c10-49b3-4163-8df5-f9779906799e"
      },
      "outputs": [
        {
          "data": {
            "text/plain": [
              "array(['10', '100_girls', '101_dalmatians', ..., 'zygmunt_hubner',\n",
              "       'zygmunt_maciejewski', 'zygmunt_malanowicz'], dtype=object)"
            ]
          },
          "execution_count": 39,
          "metadata": {},
          "output_type": "execute_result"
        }
      ],
      "source": [
        "from sklearn.feature_extraction.text import TfidfVectorizer\n",
        "from sklearn.metrics.pairwise import cosine_similarity\n",
        "\n",
        "tfidf = TfidfVectorizer()\n",
        "tfidf_matrix = tfidf.fit_transform(df.bag_of_words)\n",
        "\n",
        "# calling the get_feature_names_out() method on the tfidf object to get the feature names (i.e., the unique words) in the TF-IDF matrix.\n",
        "tfidf.get_feature_names_out()"
      ]
    },
    {
      "cell_type": "code",
      "execution_count": null,
      "metadata": {
        "id": "pHqEnd5OGwpW"
      },
      "outputs": [],
      "source": [
        "# Compute cosine similarity between all movie-descriptions\n",
        "similarity = cosine_similarity(tfidf_matrix)\n",
        "# Remove self-similarity from matrix\n",
        "similarity -= np.eye(similarity.shape[0])"
      ]
    },
    {
      "cell_type": "code",
      "execution_count": null,
      "metadata": {
        "id": "-0U56gVDGwpX"
      },
      "outputs": [],
      "source": [
        "# df.reset_index(drop=True) resets the index of the DataFrame df to a new sequential index starting from 0, and drops the existing index (if any)\n",
        "\n",
        "def get_content_based_recommendations(title):\n",
        "    # Get the index of given movie (if exist)\n",
        "    #  index values of the matching rows\n",
        "    index = df.reset_index(drop=True)[df.title == clean_data(title)].index\n",
        "    if len(index) > 0:\n",
        "        index = index[0]\n",
        "        # elect only the top n_plot (in this case, 10) most similar movies\n",
        "        n_plot = 10\n",
        "        # Get indices and scores of similar movies - argsort function from NumPy to return the indices that would sort the similarity array in ascending order.\n",
        "        similar_movies_index = np.argsort(similarity[index])[::-1][:n_plot]\n",
        "        similar_movies_score = np.sort(similarity[index])[::-1][:n_plot]\n",
        "\n",
        "        # Get titles of similar movies\n",
        "        similar_movie_titles = df.iloc[similar_movies_index].index\n",
        "        return [df.iloc[index].title for index in similar_movies_index]\n",
        "    else:\n",
        "        return None"
      ]
    },
    {
      "cell_type": "code",
      "execution_count": null,
      "metadata": {
        "colab": {
          "base_uri": "https://localhost:8080/"
        },
        "id": "rM99ptTNGwpX",
        "outputId": "60c5a525-e9fa-4a2b-82ad-ad1cef34b84d"
      },
      "outputs": [
        {
          "data": {
            "text/plain": [
              "['toy_story_2',\n",
              " 'quest_for_camelot',\n",
              " 'a_bug_s_life',\n",
              " 'ernest_in_the_army',\n",
              " 'creature_comforts',\n",
              " 'ernest_goes_to_africa',\n",
              " 'leave_it_to_beaver',\n",
              " 'jungle_2_jungle',\n",
              " 'smile',\n",
              " 'atlantis_the_lost_empire']"
            ]
          },
          "execution_count": 42,
          "metadata": {},
          "output_type": "execute_result"
        }
      ],
      "source": [
        "get_content_based_recommendations(\"Toy Story\")"
      ]
    },
    {
      "cell_type": "markdown",
      "metadata": {
        "id": "NB4VScLtLNMv"
      },
      "source": [
        "---"
      ]
    },
    {
      "cell_type": "markdown",
      "metadata": {
        "id": "paxsU3hOGwpY"
      },
      "source": [
        "## Create a hybrid system"
      ]
    },
    {
      "cell_type": "code",
      "execution_count": null,
      "metadata": {
        "colab": {
          "base_uri": "https://localhost:8080/",
          "height": 423
        },
        "id": "_RWti1Q1GwpY",
        "outputId": "063bf369-cbcf-46c8-9740-9afed59ada71"
      },
      "outputs": [
        {
          "data": {
            "text/html": [
              "\n",
              "  <div id=\"df-ae805fbe-b9be-477c-9238-411e0cd58f6b\">\n",
              "    <div class=\"colab-df-container\">\n",
              "      <div>\n",
              "<style scoped>\n",
              "    .dataframe tbody tr th:only-of-type {\n",
              "        vertical-align: middle;\n",
              "    }\n",
              "\n",
              "    .dataframe tbody tr th {\n",
              "        vertical-align: top;\n",
              "    }\n",
              "\n",
              "    .dataframe thead th {\n",
              "        text-align: right;\n",
              "    }\n",
              "</style>\n",
              "<table border=\"1\" class=\"dataframe\">\n",
              "  <thead>\n",
              "    <tr style=\"text-align: right;\">\n",
              "      <th></th>\n",
              "      <th>userId</th>\n",
              "      <th>movieId</th>\n",
              "      <th>rating</th>\n",
              "      <th>title</th>\n",
              "    </tr>\n",
              "  </thead>\n",
              "  <tbody>\n",
              "    <tr>\n",
              "      <th>0</th>\n",
              "      <td>1</td>\n",
              "      <td>110</td>\n",
              "      <td>1.0</td>\n",
              "      <td>Three Colors: Red</td>\n",
              "    </tr>\n",
              "    <tr>\n",
              "      <th>1</th>\n",
              "      <td>11</td>\n",
              "      <td>110</td>\n",
              "      <td>3.5</td>\n",
              "      <td>Three Colors: Red</td>\n",
              "    </tr>\n",
              "    <tr>\n",
              "      <th>2</th>\n",
              "      <td>22</td>\n",
              "      <td>110</td>\n",
              "      <td>5.0</td>\n",
              "      <td>Three Colors: Red</td>\n",
              "    </tr>\n",
              "    <tr>\n",
              "      <th>3</th>\n",
              "      <td>24</td>\n",
              "      <td>110</td>\n",
              "      <td>5.0</td>\n",
              "      <td>Three Colors: Red</td>\n",
              "    </tr>\n",
              "    <tr>\n",
              "      <th>4</th>\n",
              "      <td>29</td>\n",
              "      <td>110</td>\n",
              "      <td>3.0</td>\n",
              "      <td>Three Colors: Red</td>\n",
              "    </tr>\n",
              "    <tr>\n",
              "      <th>...</th>\n",
              "      <td>...</td>\n",
              "      <td>...</td>\n",
              "      <td>...</td>\n",
              "      <td>...</td>\n",
              "    </tr>\n",
              "    <tr>\n",
              "      <th>11437632</th>\n",
              "      <td>270123</td>\n",
              "      <td>140222</td>\n",
              "      <td>3.0</td>\n",
              "      <td>Love and Honor</td>\n",
              "    </tr>\n",
              "    <tr>\n",
              "      <th>11437633</th>\n",
              "      <td>270123</td>\n",
              "      <td>151509</td>\n",
              "      <td>3.0</td>\n",
              "      <td>Trapped in the Closet: Chapters 23-33</td>\n",
              "    </tr>\n",
              "    <tr>\n",
              "      <th>11437634</th>\n",
              "      <td>270123</td>\n",
              "      <td>159109</td>\n",
              "      <td>1.5</td>\n",
              "      <td>The Rambler</td>\n",
              "    </tr>\n",
              "    <tr>\n",
              "      <th>11437635</th>\n",
              "      <td>270694</td>\n",
              "      <td>165159</td>\n",
              "      <td>4.0</td>\n",
              "      <td>Agenzia Riccardo Finzi... praticamente detective</td>\n",
              "    </tr>\n",
              "    <tr>\n",
              "      <th>11437636</th>\n",
              "      <td>270887</td>\n",
              "      <td>136928</td>\n",
              "      <td>3.0</td>\n",
              "      <td>First Winter</td>\n",
              "    </tr>\n",
              "  </tbody>\n",
              "</table>\n",
              "<p>11437637 rows × 4 columns</p>\n",
              "</div>\n",
              "      <button class=\"colab-df-convert\" onclick=\"convertToInteractive('df-ae805fbe-b9be-477c-9238-411e0cd58f6b')\"\n",
              "              title=\"Convert this dataframe to an interactive table.\"\n",
              "              style=\"display:none;\">\n",
              "        \n",
              "  <svg xmlns=\"http://www.w3.org/2000/svg\" height=\"24px\"viewBox=\"0 0 24 24\"\n",
              "       width=\"24px\">\n",
              "    <path d=\"M0 0h24v24H0V0z\" fill=\"none\"/>\n",
              "    <path d=\"M18.56 5.44l.94 2.06.94-2.06 2.06-.94-2.06-.94-.94-2.06-.94 2.06-2.06.94zm-11 1L8.5 8.5l.94-2.06 2.06-.94-2.06-.94L8.5 2.5l-.94 2.06-2.06.94zm10 10l.94 2.06.94-2.06 2.06-.94-2.06-.94-.94-2.06-.94 2.06-2.06.94z\"/><path d=\"M17.41 7.96l-1.37-1.37c-.4-.4-.92-.59-1.43-.59-.52 0-1.04.2-1.43.59L10.3 9.45l-7.72 7.72c-.78.78-.78 2.05 0 2.83L4 21.41c.39.39.9.59 1.41.59.51 0 1.02-.2 1.41-.59l7.78-7.78 2.81-2.81c.8-.78.8-2.07 0-2.86zM5.41 20L4 18.59l7.72-7.72 1.47 1.35L5.41 20z\"/>\n",
              "  </svg>\n",
              "      </button>\n",
              "      \n",
              "  <style>\n",
              "    .colab-df-container {\n",
              "      display:flex;\n",
              "      flex-wrap:wrap;\n",
              "      gap: 12px;\n",
              "    }\n",
              "\n",
              "    .colab-df-convert {\n",
              "      background-color: #E8F0FE;\n",
              "      border: none;\n",
              "      border-radius: 50%;\n",
              "      cursor: pointer;\n",
              "      display: none;\n",
              "      fill: #1967D2;\n",
              "      height: 32px;\n",
              "      padding: 0 0 0 0;\n",
              "      width: 32px;\n",
              "    }\n",
              "\n",
              "    .colab-df-convert:hover {\n",
              "      background-color: #E2EBFA;\n",
              "      box-shadow: 0px 1px 2px rgba(60, 64, 67, 0.3), 0px 1px 3px 1px rgba(60, 64, 67, 0.15);\n",
              "      fill: #174EA6;\n",
              "    }\n",
              "\n",
              "    [theme=dark] .colab-df-convert {\n",
              "      background-color: #3B4455;\n",
              "      fill: #D2E3FC;\n",
              "    }\n",
              "\n",
              "    [theme=dark] .colab-df-convert:hover {\n",
              "      background-color: #434B5C;\n",
              "      box-shadow: 0px 1px 3px 1px rgba(0, 0, 0, 0.15);\n",
              "      filter: drop-shadow(0px 1px 2px rgba(0, 0, 0, 0.3));\n",
              "      fill: #FFFFFF;\n",
              "    }\n",
              "  </style>\n",
              "\n",
              "      <script>\n",
              "        const buttonEl =\n",
              "          document.querySelector('#df-ae805fbe-b9be-477c-9238-411e0cd58f6b button.colab-df-convert');\n",
              "        buttonEl.style.display =\n",
              "          google.colab.kernel.accessAllowed ? 'block' : 'none';\n",
              "\n",
              "        async function convertToInteractive(key) {\n",
              "          const element = document.querySelector('#df-ae805fbe-b9be-477c-9238-411e0cd58f6b');\n",
              "          const dataTable =\n",
              "            await google.colab.kernel.invokeFunction('convertToInteractive',\n",
              "                                                     [key], {});\n",
              "          if (!dataTable) return;\n",
              "\n",
              "          const docLinkHtml = 'Like what you see? Visit the ' +\n",
              "            '<a target=\"_blank\" href=https://colab.research.google.com/notebooks/data_table.ipynb>data table notebook</a>'\n",
              "            + ' to learn more about interactive tables.';\n",
              "          element.innerHTML = '';\n",
              "          dataTable['output_type'] = 'display_data';\n",
              "          await google.colab.output.renderOutput(dataTable, element);\n",
              "          const docLink = document.createElement('div');\n",
              "          docLink.innerHTML = docLinkHtml;\n",
              "          element.appendChild(docLink);\n",
              "        }\n",
              "      </script>\n",
              "    </div>\n",
              "  </div>\n",
              "  "
            ],
            "text/plain": [
              "          userId movieId  rating  \\\n",
              "0              1     110     1.0   \n",
              "1             11     110     3.5   \n",
              "2             22     110     5.0   \n",
              "3             24     110     5.0   \n",
              "4             29     110     3.0   \n",
              "...          ...     ...     ...   \n",
              "11437632  270123  140222     3.0   \n",
              "11437633  270123  151509     3.0   \n",
              "11437634  270123  159109     1.5   \n",
              "11437635  270694  165159     4.0   \n",
              "11437636  270887  136928     3.0   \n",
              "\n",
              "                                                     title  \n",
              "0                                        Three Colors: Red  \n",
              "1                                        Three Colors: Red  \n",
              "2                                        Three Colors: Red  \n",
              "3                                        Three Colors: Red  \n",
              "4                                        Three Colors: Red  \n",
              "...                                                    ...  \n",
              "11437632                                    Love and Honor  \n",
              "11437633             Trapped in the Closet: Chapters 23-33  \n",
              "11437634                                       The Rambler  \n",
              "11437635  Agenzia Riccardo Finzi... praticamente detective  \n",
              "11437636                                      First Winter  \n",
              "\n",
              "[11437637 rows x 4 columns]"
            ]
          },
          "execution_count": 43,
          "metadata": {},
          "output_type": "execute_result"
        }
      ],
      "source": [
        "df_ratings_all['movieId'] = df_ratings_all['movieId'].astype('str')\n",
        "df_ratings_merge = df_ratings_all.merge(movies[['title','id']], left_on='movieId', right_on='id')\n",
        "df_ratings_merge = df_ratings_merge[['userId','movieId', 'rating', 'title']]\n",
        "df_ratings_merge"
      ]
    },
    {
      "cell_type": "markdown",
      "metadata": {
        "id": "nKmRyaYkGwpY"
      },
      "source": [
        "I realized that there is no title for some movieId."
      ]
    },
    {
      "cell_type": "code",
      "execution_count": null,
      "metadata": {
        "colab": {
          "base_uri": "https://localhost:8080/"
        },
        "id": "Vyn2xlZ9GwpZ",
        "outputId": "fa31c675-dbf2-4807-cba7-89c9ad0d8dd9"
      },
      "outputs": [
        {
          "name": "stdout",
          "output_type": "stream",
          "text": [
            "          userId movieId  rating  \\\n",
            "0              1     110     1.0   \n",
            "1             11     110     3.5   \n",
            "2             22     110     5.0   \n",
            "3             24     110     5.0   \n",
            "4             29     110     3.0   \n",
            "...          ...     ...     ...   \n",
            "11437632  270123  140222     3.0   \n",
            "11437633  270123  151509     3.0   \n",
            "11437634  270123  159109     1.5   \n",
            "11437635  270694  165159     4.0   \n",
            "11437636  270887  136928     3.0   \n",
            "\n",
            "                                                  title  \n",
            "0                                      three_colors_red  \n",
            "1                                      three_colors_red  \n",
            "2                                      three_colors_red  \n",
            "3                                      three_colors_red  \n",
            "4                                      three_colors_red  \n",
            "...                                                 ...  \n",
            "11437632                                 love_and_honor  \n",
            "11437633           trapped_in_the_closet_chapters_23_33  \n",
            "11437634                                    the_rambler  \n",
            "11437635  agenzia_riccardo_finzi_praticamente_detective  \n",
            "11437636                                   first_winter  \n",
            "\n",
            "[11437637 rows x 4 columns]\n"
          ]
        }
      ],
      "source": [
        "df_ratings_merge_with_different_title = df_ratings_merge\n",
        "df_ratings_merge_with_different_title['title'] = df_ratings_merge_with_different_title['title'].apply(lambda x: clean_data(x))\n",
        "print(df_ratings_merge_with_different_title)"
      ]
    },
    {
      "cell_type": "markdown",
      "metadata": {
        "id": "ImVFA621GwpZ"
      },
      "source": [
        "Now, we will create the hybrid solution. But in here we have *Cold Start Problem*.  \n",
        "For new users, we can use Popularity-based approach."
      ]
    },
    {
      "cell_type": "code",
      "execution_count": null,
      "metadata": {
        "id": "gYrjsVunGwpa"
      },
      "outputs": [],
      "source": [
        "def get_content_based_recommendation_for_user(userId):\n",
        "    # Check if user id exist\n",
        "    # if not exist show some of populars\n",
        "\n",
        "    if userId not in df_ratings_merge['userId'].unique():\n",
        "      #highest_ranked_movies = df_ratings_merge.nlargest(15, 'rating')\n",
        "      # Sort the dataframe by the \"rating\" column in descending order and select the top 15 rows\n",
        "      highest_ranked_movies = df_ratings_merge.sort_values(by='rating', ascending=False).head(15)\n",
        "      # Ensure that the \"title\" values are unique\n",
        "      highest_ranked_movies = highest_ranked_movies.drop_duplicates(subset='title')\n",
        "      print(\"new user\")\n",
        "      print(highest_ranked_movies)\n",
        "    else:\n",
        "      # Get highest ranking score of this user\n",
        "      highest_ranked_movies = df_ratings_merge[df_ratings_merge['userId'] == userId]\n",
        "      highest_ranked_movies.sort_values(by=['rating'], ascending=False)\n",
        "      print(highest_ranked_movies)\n",
        "      \n",
        "    similar_movies = set()\n",
        "    for i in range(len(highest_ranked_movies)):\n",
        "        current_similar_movies = get_content_based_recommendations(highest_ranked_movies.iloc[i].title)\n",
        "        if current_similar_movies == None:\n",
        "            continue\n",
        "        for movie_title in current_similar_movies:\n",
        "            similar_movies.add(movie_title)\n",
        "    \n",
        "    result_df = pd.DataFrame(similar_movies, columns=['title'])\n",
        "    \n",
        "    without_duplicate = df_ratings_merge_with_different_title.drop_duplicates(subset='title', keep='first', inplace = False)    \n",
        "    result_df = result_df.merge(without_duplicate, on = 'title')\n",
        "    \n",
        "    return result_df"
      ]
    },
    {
      "cell_type": "markdown",
      "metadata": {
        "id": "bJj9Tw_IKs-_"
      },
      "source": [
        "Hybrid Based"
      ]
    },
    {
      "cell_type": "code",
      "execution_count": null,
      "metadata": {
        "id": "mOLox1EiGwpb"
      },
      "outputs": [],
      "source": [
        "def get_recommendations(userId):\n",
        "    content_based = get_content_based_recommendation_for_user(userId)\n",
        "    content_based = content_based[['title','movieId']]\n",
        "    \n",
        "    predicted_rating = []\n",
        "    for i in range(len(content_based)):\n",
        "        ratings = get_collabration_based_recommendations(userId, int(content_based.iloc[i].movieId))\n",
        "        predicted_rating.append(ratings)\n",
        "    content_based['predicted_rating'] = predicted_rating\n",
        "    content_based = content_based.sort_values(by=['predicted_rating'], ascending=False)\n",
        "\n",
        "    return content_based[:10]"
      ]
    },
    {
      "cell_type": "code",
      "execution_count": null,
      "metadata": {
        "colab": {
          "base_uri": "https://localhost:8080/",
          "height": 606
        },
        "id": "21csZ5ioGwpc",
        "outputId": "058013f5-214a-4e69-e0b8-d007a02fc732"
      },
      "outputs": [
        {
          "name": "stdout",
          "output_type": "stream",
          "text": [
            "         userId movieId  rating                              title\n",
            "1333568      10     296     5.0  terminator_3_rise_of_the_machines\n",
            "2341879      10     150     4.0                            48_hrs_\n",
            "2708987      10     153     3.0                lost_in_translation\n",
            "2747174      10     165     4.0         back_to_the_future_part_ii\n",
            "2787610      10     344     4.0                     bang_boom_bang\n",
            "2832352      10     349     5.0                cockles_and_muscles\n",
            "2866543      10     380     5.0                           rain_man\n",
            "2916711      10     457     4.0                              sissi\n",
            "2973531      10     588     5.0                        silent_hill\n",
            "3023906      10     590     3.0                          the_hours\n",
            "3075244      10     592     4.0                   the_conversation\n",
            "3128961      10     593     4.0                            solaris\n",
            "3213039      10     595     5.0              to_kill_a_mockingbird\n"
          ]
        },
        {
          "data": {
            "text/html": [
              "\n",
              "  <div id=\"df-82f68f7e-c685-4745-98d6-de3bf7fbcea0\">\n",
              "    <div class=\"colab-df-container\">\n",
              "      <div>\n",
              "<style scoped>\n",
              "    .dataframe tbody tr th:only-of-type {\n",
              "        vertical-align: middle;\n",
              "    }\n",
              "\n",
              "    .dataframe tbody tr th {\n",
              "        vertical-align: top;\n",
              "    }\n",
              "\n",
              "    .dataframe thead th {\n",
              "        text-align: right;\n",
              "    }\n",
              "</style>\n",
              "<table border=\"1\" class=\"dataframe\">\n",
              "  <thead>\n",
              "    <tr style=\"text-align: right;\">\n",
              "      <th></th>\n",
              "      <th>title</th>\n",
              "      <th>movieId</th>\n",
              "      <th>predicted_rating</th>\n",
              "    </tr>\n",
              "  </thead>\n",
              "  <tbody>\n",
              "    <tr>\n",
              "      <th>30</th>\n",
              "      <td>solaris</td>\n",
              "      <td>593</td>\n",
              "      <td>4.228453</td>\n",
              "    </tr>\n",
              "    <tr>\n",
              "      <th>33</th>\n",
              "      <td>rumble_fish</td>\n",
              "      <td>232</td>\n",
              "      <td>4.079467</td>\n",
              "    </tr>\n",
              "    <tr>\n",
              "      <th>5</th>\n",
              "      <td>apocalypse_now</td>\n",
              "      <td>28</td>\n",
              "      <td>4.056564</td>\n",
              "    </tr>\n",
              "    <tr>\n",
              "      <th>28</th>\n",
              "      <td>nostalgia</td>\n",
              "      <td>1394</td>\n",
              "      <td>3.793175</td>\n",
              "    </tr>\n",
              "    <tr>\n",
              "      <th>21</th>\n",
              "      <td>before_night_falls</td>\n",
              "      <td>5001</td>\n",
              "      <td>3.766822</td>\n",
              "    </tr>\n",
              "    <tr>\n",
              "      <th>8</th>\n",
              "      <td>terminator_2_judgment_day</td>\n",
              "      <td>280</td>\n",
              "      <td>3.743703</td>\n",
              "    </tr>\n",
              "    <tr>\n",
              "      <th>6</th>\n",
              "      <td>this_island_earth</td>\n",
              "      <td>831</td>\n",
              "      <td>3.672445</td>\n",
              "    </tr>\n",
              "    <tr>\n",
              "      <th>20</th>\n",
              "      <td>mirror</td>\n",
              "      <td>1396</td>\n",
              "      <td>3.644771</td>\n",
              "    </tr>\n",
              "    <tr>\n",
              "      <th>7</th>\n",
              "      <td>around_the_world_in_eighty_days</td>\n",
              "      <td>2897</td>\n",
              "      <td>3.594345</td>\n",
              "    </tr>\n",
              "    <tr>\n",
              "      <th>23</th>\n",
              "      <td>i_robot</td>\n",
              "      <td>2048</td>\n",
              "      <td>3.590813</td>\n",
              "    </tr>\n",
              "  </tbody>\n",
              "</table>\n",
              "</div>\n",
              "      <button class=\"colab-df-convert\" onclick=\"convertToInteractive('df-82f68f7e-c685-4745-98d6-de3bf7fbcea0')\"\n",
              "              title=\"Convert this dataframe to an interactive table.\"\n",
              "              style=\"display:none;\">\n",
              "        \n",
              "  <svg xmlns=\"http://www.w3.org/2000/svg\" height=\"24px\"viewBox=\"0 0 24 24\"\n",
              "       width=\"24px\">\n",
              "    <path d=\"M0 0h24v24H0V0z\" fill=\"none\"/>\n",
              "    <path d=\"M18.56 5.44l.94 2.06.94-2.06 2.06-.94-2.06-.94-.94-2.06-.94 2.06-2.06.94zm-11 1L8.5 8.5l.94-2.06 2.06-.94-2.06-.94L8.5 2.5l-.94 2.06-2.06.94zm10 10l.94 2.06.94-2.06 2.06-.94-2.06-.94-.94-2.06-.94 2.06-2.06.94z\"/><path d=\"M17.41 7.96l-1.37-1.37c-.4-.4-.92-.59-1.43-.59-.52 0-1.04.2-1.43.59L10.3 9.45l-7.72 7.72c-.78.78-.78 2.05 0 2.83L4 21.41c.39.39.9.59 1.41.59.51 0 1.02-.2 1.41-.59l7.78-7.78 2.81-2.81c.8-.78.8-2.07 0-2.86zM5.41 20L4 18.59l7.72-7.72 1.47 1.35L5.41 20z\"/>\n",
              "  </svg>\n",
              "      </button>\n",
              "      \n",
              "  <style>\n",
              "    .colab-df-container {\n",
              "      display:flex;\n",
              "      flex-wrap:wrap;\n",
              "      gap: 12px;\n",
              "    }\n",
              "\n",
              "    .colab-df-convert {\n",
              "      background-color: #E8F0FE;\n",
              "      border: none;\n",
              "      border-radius: 50%;\n",
              "      cursor: pointer;\n",
              "      display: none;\n",
              "      fill: #1967D2;\n",
              "      height: 32px;\n",
              "      padding: 0 0 0 0;\n",
              "      width: 32px;\n",
              "    }\n",
              "\n",
              "    .colab-df-convert:hover {\n",
              "      background-color: #E2EBFA;\n",
              "      box-shadow: 0px 1px 2px rgba(60, 64, 67, 0.3), 0px 1px 3px 1px rgba(60, 64, 67, 0.15);\n",
              "      fill: #174EA6;\n",
              "    }\n",
              "\n",
              "    [theme=dark] .colab-df-convert {\n",
              "      background-color: #3B4455;\n",
              "      fill: #D2E3FC;\n",
              "    }\n",
              "\n",
              "    [theme=dark] .colab-df-convert:hover {\n",
              "      background-color: #434B5C;\n",
              "      box-shadow: 0px 1px 3px 1px rgba(0, 0, 0, 0.15);\n",
              "      filter: drop-shadow(0px 1px 2px rgba(0, 0, 0, 0.3));\n",
              "      fill: #FFFFFF;\n",
              "    }\n",
              "  </style>\n",
              "\n",
              "      <script>\n",
              "        const buttonEl =\n",
              "          document.querySelector('#df-82f68f7e-c685-4745-98d6-de3bf7fbcea0 button.colab-df-convert');\n",
              "        buttonEl.style.display =\n",
              "          google.colab.kernel.accessAllowed ? 'block' : 'none';\n",
              "\n",
              "        async function convertToInteractive(key) {\n",
              "          const element = document.querySelector('#df-82f68f7e-c685-4745-98d6-de3bf7fbcea0');\n",
              "          const dataTable =\n",
              "            await google.colab.kernel.invokeFunction('convertToInteractive',\n",
              "                                                     [key], {});\n",
              "          if (!dataTable) return;\n",
              "\n",
              "          const docLinkHtml = 'Like what you see? Visit the ' +\n",
              "            '<a target=\"_blank\" href=https://colab.research.google.com/notebooks/data_table.ipynb>data table notebook</a>'\n",
              "            + ' to learn more about interactive tables.';\n",
              "          element.innerHTML = '';\n",
              "          dataTable['output_type'] = 'display_data';\n",
              "          await google.colab.output.renderOutput(dataTable, element);\n",
              "          const docLink = document.createElement('div');\n",
              "          docLink.innerHTML = docLinkHtml;\n",
              "          element.appendChild(docLink);\n",
              "        }\n",
              "      </script>\n",
              "    </div>\n",
              "  </div>\n",
              "  "
            ],
            "text/plain": [
              "                              title movieId  predicted_rating\n",
              "30                          solaris     593          4.228453\n",
              "33                      rumble_fish     232          4.079467\n",
              "5                    apocalypse_now      28          4.056564\n",
              "28                        nostalgia    1394          3.793175\n",
              "21               before_night_falls    5001          3.766822\n",
              "8         terminator_2_judgment_day     280          3.743703\n",
              "6                 this_island_earth     831          3.672445\n",
              "20                           mirror    1396          3.644771\n",
              "7   around_the_world_in_eighty_days    2897          3.594345\n",
              "23                          i_robot    2048          3.590813"
            ]
          },
          "execution_count": 47,
          "metadata": {},
          "output_type": "execute_result"
        }
      ],
      "source": [
        "get_recommendations(10)"
      ]
    },
    {
      "cell_type": "markdown",
      "metadata": {
        "id": "SQrdpMNgGwpc"
      },
      "source": [
        "* Get hybrid recommendation using both content  based and collaborative based recommendation system"
      ]
    },
    {
      "cell_type": "code",
      "execution_count": null,
      "metadata": {
        "colab": {
          "base_uri": "https://localhost:8080/",
          "height": 519
        },
        "id": "JKgZEn6AWnrO",
        "outputId": "4ec13f3f-bcb6-4313-b518-f2b4ae8eb85f"
      },
      "outputs": [
        {
          "name": "stdout",
          "output_type": "stream",
          "text": [
            "new user\n",
            "          userId movieId  rating                                title\n",
            "4144753   173290     926     5.0                         galaxy_quest\n",
            "1735601    78905    5816     5.0                               waiter\n",
            "8677466   223369    1590     5.0                    copying_beethoven\n",
            "3525793   198066    1923     5.0         twin_peaks_fire_walk_with_me\n",
            "4658351   150950    2791     5.0  the_chronicles_of_riddick_dark_fury\n",
            "6338041   185404     440     5.0           aliens_vs_predator_requiem\n",
            "10761932  187442    4043     5.0                        law_of_desire\n"
          ]
        },
        {
          "data": {
            "text/html": [
              "\n",
              "  <div id=\"df-9361bc62-cf20-4e8d-808f-bcc5dc91be8e\">\n",
              "    <div class=\"colab-df-container\">\n",
              "      <div>\n",
              "<style scoped>\n",
              "    .dataframe tbody tr th:only-of-type {\n",
              "        vertical-align: middle;\n",
              "    }\n",
              "\n",
              "    .dataframe tbody tr th {\n",
              "        vertical-align: top;\n",
              "    }\n",
              "\n",
              "    .dataframe thead th {\n",
              "        text-align: right;\n",
              "    }\n",
              "</style>\n",
              "<table border=\"1\" class=\"dataframe\">\n",
              "  <thead>\n",
              "    <tr style=\"text-align: right;\">\n",
              "      <th></th>\n",
              "      <th>title</th>\n",
              "      <th>movieId</th>\n",
              "      <th>predicted_rating</th>\n",
              "    </tr>\n",
              "  </thead>\n",
              "  <tbody>\n",
              "    <tr>\n",
              "      <th>6</th>\n",
              "      <td>pepi_luci_bom</td>\n",
              "      <td>4499</td>\n",
              "      <td>3.864678</td>\n",
              "    </tr>\n",
              "    <tr>\n",
              "      <th>12</th>\n",
              "      <td>the_elephant_man</td>\n",
              "      <td>1955</td>\n",
              "      <td>3.797550</td>\n",
              "    </tr>\n",
              "    <tr>\n",
              "      <th>13</th>\n",
              "      <td>in_the_mouth_of_madness</td>\n",
              "      <td>2654</td>\n",
              "      <td>3.701260</td>\n",
              "    </tr>\n",
              "    <tr>\n",
              "      <th>5</th>\n",
              "      <td>dune</td>\n",
              "      <td>841</td>\n",
              "      <td>3.659823</td>\n",
              "    </tr>\n",
              "    <tr>\n",
              "      <th>4</th>\n",
              "      <td>blue_velvet</td>\n",
              "      <td>793</td>\n",
              "      <td>3.532822</td>\n",
              "    </tr>\n",
              "    <tr>\n",
              "      <th>7</th>\n",
              "      <td>the_winter_guest</td>\n",
              "      <td>25994</td>\n",
              "      <td>3.530935</td>\n",
              "    </tr>\n",
              "    <tr>\n",
              "      <th>8</th>\n",
              "      <td>who_is_cletis_tout_</td>\n",
              "      <td>33152</td>\n",
              "      <td>3.530075</td>\n",
              "    </tr>\n",
              "    <tr>\n",
              "      <th>10</th>\n",
              "      <td>what_have_i_done_to_deserve_this_</td>\n",
              "      <td>8221</td>\n",
              "      <td>3.528968</td>\n",
              "    </tr>\n",
              "    <tr>\n",
              "      <th>11</th>\n",
              "      <td>high_heels</td>\n",
              "      <td>8222</td>\n",
              "      <td>3.507476</td>\n",
              "    </tr>\n",
              "    <tr>\n",
              "      <th>3</th>\n",
              "      <td>all_about_my_mother</td>\n",
              "      <td>99</td>\n",
              "      <td>3.489067</td>\n",
              "    </tr>\n",
              "  </tbody>\n",
              "</table>\n",
              "</div>\n",
              "      <button class=\"colab-df-convert\" onclick=\"convertToInteractive('df-9361bc62-cf20-4e8d-808f-bcc5dc91be8e')\"\n",
              "              title=\"Convert this dataframe to an interactive table.\"\n",
              "              style=\"display:none;\">\n",
              "        \n",
              "  <svg xmlns=\"http://www.w3.org/2000/svg\" height=\"24px\"viewBox=\"0 0 24 24\"\n",
              "       width=\"24px\">\n",
              "    <path d=\"M0 0h24v24H0V0z\" fill=\"none\"/>\n",
              "    <path d=\"M18.56 5.44l.94 2.06.94-2.06 2.06-.94-2.06-.94-.94-2.06-.94 2.06-2.06.94zm-11 1L8.5 8.5l.94-2.06 2.06-.94-2.06-.94L8.5 2.5l-.94 2.06-2.06.94zm10 10l.94 2.06.94-2.06 2.06-.94-2.06-.94-.94-2.06-.94 2.06-2.06.94z\"/><path d=\"M17.41 7.96l-1.37-1.37c-.4-.4-.92-.59-1.43-.59-.52 0-1.04.2-1.43.59L10.3 9.45l-7.72 7.72c-.78.78-.78 2.05 0 2.83L4 21.41c.39.39.9.59 1.41.59.51 0 1.02-.2 1.41-.59l7.78-7.78 2.81-2.81c.8-.78.8-2.07 0-2.86zM5.41 20L4 18.59l7.72-7.72 1.47 1.35L5.41 20z\"/>\n",
              "  </svg>\n",
              "      </button>\n",
              "      \n",
              "  <style>\n",
              "    .colab-df-container {\n",
              "      display:flex;\n",
              "      flex-wrap:wrap;\n",
              "      gap: 12px;\n",
              "    }\n",
              "\n",
              "    .colab-df-convert {\n",
              "      background-color: #E8F0FE;\n",
              "      border: none;\n",
              "      border-radius: 50%;\n",
              "      cursor: pointer;\n",
              "      display: none;\n",
              "      fill: #1967D2;\n",
              "      height: 32px;\n",
              "      padding: 0 0 0 0;\n",
              "      width: 32px;\n",
              "    }\n",
              "\n",
              "    .colab-df-convert:hover {\n",
              "      background-color: #E2EBFA;\n",
              "      box-shadow: 0px 1px 2px rgba(60, 64, 67, 0.3), 0px 1px 3px 1px rgba(60, 64, 67, 0.15);\n",
              "      fill: #174EA6;\n",
              "    }\n",
              "\n",
              "    [theme=dark] .colab-df-convert {\n",
              "      background-color: #3B4455;\n",
              "      fill: #D2E3FC;\n",
              "    }\n",
              "\n",
              "    [theme=dark] .colab-df-convert:hover {\n",
              "      background-color: #434B5C;\n",
              "      box-shadow: 0px 1px 3px 1px rgba(0, 0, 0, 0.15);\n",
              "      filter: drop-shadow(0px 1px 2px rgba(0, 0, 0, 0.3));\n",
              "      fill: #FFFFFF;\n",
              "    }\n",
              "  </style>\n",
              "\n",
              "      <script>\n",
              "        const buttonEl =\n",
              "          document.querySelector('#df-9361bc62-cf20-4e8d-808f-bcc5dc91be8e button.colab-df-convert');\n",
              "        buttonEl.style.display =\n",
              "          google.colab.kernel.accessAllowed ? 'block' : 'none';\n",
              "\n",
              "        async function convertToInteractive(key) {\n",
              "          const element = document.querySelector('#df-9361bc62-cf20-4e8d-808f-bcc5dc91be8e');\n",
              "          const dataTable =\n",
              "            await google.colab.kernel.invokeFunction('convertToInteractive',\n",
              "                                                     [key], {});\n",
              "          if (!dataTable) return;\n",
              "\n",
              "          const docLinkHtml = 'Like what you see? Visit the ' +\n",
              "            '<a target=\"_blank\" href=https://colab.research.google.com/notebooks/data_table.ipynb>data table notebook</a>'\n",
              "            + ' to learn more about interactive tables.';\n",
              "          element.innerHTML = '';\n",
              "          dataTable['output_type'] = 'display_data';\n",
              "          await google.colab.output.renderOutput(dataTable, element);\n",
              "          const docLink = document.createElement('div');\n",
              "          docLink.innerHTML = docLinkHtml;\n",
              "          element.appendChild(docLink);\n",
              "        }\n",
              "      </script>\n",
              "    </div>\n",
              "  </div>\n",
              "  "
            ],
            "text/plain": [
              "                                title movieId  predicted_rating\n",
              "6                       pepi_luci_bom    4499          3.864678\n",
              "12                   the_elephant_man    1955          3.797550\n",
              "13            in_the_mouth_of_madness    2654          3.701260\n",
              "5                                dune     841          3.659823\n",
              "4                         blue_velvet     793          3.532822\n",
              "7                    the_winter_guest   25994          3.530935\n",
              "8                 who_is_cletis_tout_   33152          3.530075\n",
              "10  what_have_i_done_to_deserve_this_    8221          3.528968\n",
              "11                         high_heels    8222          3.507476\n",
              "3                 all_about_my_mother      99          3.489067"
            ]
          },
          "execution_count": 48,
          "metadata": {},
          "output_type": "execute_result"
        }
      ],
      "source": [
        "# For new user\n",
        "get_recommendations(5000000000)"
      ]
    }
  ],
  "metadata": {
    "colab": {
      "provenance": []
    },
    "kernelspec": {
      "display_name": "Python 3",
      "language": "python",
      "name": "python3"
    },
    "language_info": {
      "codemirror_mode": {
        "name": "ipython",
        "version": 3
      },
      "file_extension": ".py",
      "mimetype": "text/x-python",
      "name": "python",
      "nbconvert_exporter": "python",
      "pygments_lexer": "ipython3",
      "version": "3.7.12"
    },
    "papermill": {
      "default_parameters": {},
      "duration": 223.318862,
      "end_time": "2021-04-01T20:03:15.787582",
      "environment_variables": {},
      "exception": null,
      "input_path": "__notebook__.ipynb",
      "output_path": "__notebook__.ipynb",
      "parameters": {},
      "start_time": "2021-04-01T19:59:32.468720",
      "version": "2.2.2"
    }
  },
  "nbformat": 4,
  "nbformat_minor": 0
}
